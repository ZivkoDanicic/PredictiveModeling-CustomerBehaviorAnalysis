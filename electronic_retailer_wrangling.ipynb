{
 "cells": [
  {
   "cell_type": "code",
   "execution_count": 1,
   "id": "8a63d09a",
   "metadata": {},
   "outputs": [],
   "source": [
    "import pandas as pd\n",
    "import numpy as np\n",
    "import seaborn as sns"
   ]
  },
  {
   "cell_type": "code",
   "execution_count": 7,
   "id": "515b5107",
   "metadata": {},
   "outputs": [],
   "source": [
    "file_path = '~/Desktop/Products.csv'\n",
    "\n",
    "product_df = pd.read_csv(file_path)"
   ]
  },
  {
   "cell_type": "markdown",
   "id": "0734daa9",
   "metadata": {},
   "source": [
    "# DATA WRANGLING"
   ]
  },
  {
   "cell_type": "markdown",
   "id": "23661bb7",
   "metadata": {},
   "source": [
    "First we'll start by importing the 'Product' data that contains information pertaining specifically to the products our retailer sells. We will investigate the following before:\n",
    "\n",
    "- Shape of the dataset \n",
    "- Missing Values \n",
    "- Number of unique products, subcategories, categories \n",
    "- Range of unit cost and unit price\n",
    "\n",
    "Other information about things like the brand and types of products will be uncovered at a later time when we have a fully working dataset "
   ]
  },
  {
   "cell_type": "markdown",
   "id": "749223cc",
   "metadata": {},
   "source": [
    "# Product DataFrame"
   ]
  },
  {
   "cell_type": "code",
   "execution_count": 8,
   "id": "2ba1349d",
   "metadata": {},
   "outputs": [
    {
     "data": {
      "text/html": [
       "<div>\n",
       "<style scoped>\n",
       "    .dataframe tbody tr th:only-of-type {\n",
       "        vertical-align: middle;\n",
       "    }\n",
       "\n",
       "    .dataframe tbody tr th {\n",
       "        vertical-align: top;\n",
       "    }\n",
       "\n",
       "    .dataframe thead th {\n",
       "        text-align: right;\n",
       "    }\n",
       "</style>\n",
       "<table border=\"1\" class=\"dataframe\">\n",
       "  <thead>\n",
       "    <tr style=\"text-align: right;\">\n",
       "      <th></th>\n",
       "      <th>product_key</th>\n",
       "      <th>product_name</th>\n",
       "      <th>brand</th>\n",
       "      <th>color</th>\n",
       "      <th>unit_cost_usd</th>\n",
       "      <th>unit_price_usd</th>\n",
       "      <th>subcategory_key</th>\n",
       "      <th>subcategory</th>\n",
       "      <th>category_key</th>\n",
       "      <th>category</th>\n",
       "    </tr>\n",
       "  </thead>\n",
       "  <tbody>\n",
       "    <tr>\n",
       "      <th>0</th>\n",
       "      <td>1</td>\n",
       "      <td>Contoso 512MB MP3 Player E51 Silver</td>\n",
       "      <td>Contoso</td>\n",
       "      <td>Silver</td>\n",
       "      <td>$6.62</td>\n",
       "      <td>$12.99</td>\n",
       "      <td>101</td>\n",
       "      <td>MP4&amp;MP3</td>\n",
       "      <td>1</td>\n",
       "      <td>Audio</td>\n",
       "    </tr>\n",
       "    <tr>\n",
       "      <th>1</th>\n",
       "      <td>2</td>\n",
       "      <td>Contoso 512MB MP3 Player E51 Blue</td>\n",
       "      <td>Contoso</td>\n",
       "      <td>Blue</td>\n",
       "      <td>$6.62</td>\n",
       "      <td>$12.99</td>\n",
       "      <td>101</td>\n",
       "      <td>MP4&amp;MP3</td>\n",
       "      <td>1</td>\n",
       "      <td>Audio</td>\n",
       "    </tr>\n",
       "    <tr>\n",
       "      <th>2</th>\n",
       "      <td>3</td>\n",
       "      <td>Contoso 1G MP3 Player E100 White</td>\n",
       "      <td>Contoso</td>\n",
       "      <td>White</td>\n",
       "      <td>$7.40</td>\n",
       "      <td>$14.52</td>\n",
       "      <td>101</td>\n",
       "      <td>MP4&amp;MP3</td>\n",
       "      <td>1</td>\n",
       "      <td>Audio</td>\n",
       "    </tr>\n",
       "    <tr>\n",
       "      <th>3</th>\n",
       "      <td>4</td>\n",
       "      <td>Contoso 2G MP3 Player E200 Silver</td>\n",
       "      <td>Contoso</td>\n",
       "      <td>Silver</td>\n",
       "      <td>$11.00</td>\n",
       "      <td>$21.57</td>\n",
       "      <td>101</td>\n",
       "      <td>MP4&amp;MP3</td>\n",
       "      <td>1</td>\n",
       "      <td>Audio</td>\n",
       "    </tr>\n",
       "    <tr>\n",
       "      <th>4</th>\n",
       "      <td>5</td>\n",
       "      <td>Contoso 2G MP3 Player E200 Red</td>\n",
       "      <td>Contoso</td>\n",
       "      <td>Red</td>\n",
       "      <td>$11.00</td>\n",
       "      <td>$21.57</td>\n",
       "      <td>101</td>\n",
       "      <td>MP4&amp;MP3</td>\n",
       "      <td>1</td>\n",
       "      <td>Audio</td>\n",
       "    </tr>\n",
       "  </tbody>\n",
       "</table>\n",
       "</div>"
      ],
      "text/plain": [
       "   product_key                         product_name    brand   color  \\\n",
       "0            1  Contoso 512MB MP3 Player E51 Silver  Contoso  Silver   \n",
       "1            2    Contoso 512MB MP3 Player E51 Blue  Contoso    Blue   \n",
       "2            3     Contoso 1G MP3 Player E100 White  Contoso   White   \n",
       "3            4    Contoso 2G MP3 Player E200 Silver  Contoso  Silver   \n",
       "4            5       Contoso 2G MP3 Player E200 Red  Contoso     Red   \n",
       "\n",
       "  unit_cost_usd unit_price_usd  subcategory_key subcategory  category_key  \\\n",
       "0        $6.62         $12.99               101     MP4&MP3             1   \n",
       "1        $6.62         $12.99               101     MP4&MP3             1   \n",
       "2        $7.40         $14.52               101     MP4&MP3             1   \n",
       "3       $11.00         $21.57               101     MP4&MP3             1   \n",
       "4       $11.00         $21.57               101     MP4&MP3             1   \n",
       "\n",
       "  category  \n",
       "0    Audio  \n",
       "1    Audio  \n",
       "2    Audio  \n",
       "3    Audio  \n",
       "4    Audio  "
      ]
     },
     "execution_count": 8,
     "metadata": {},
     "output_type": "execute_result"
    }
   ],
   "source": [
    "product_df.head()"
   ]
  },
  {
   "cell_type": "code",
   "execution_count": 9,
   "id": "1c6f58e9",
   "metadata": {},
   "outputs": [
    {
     "data": {
      "text/plain": [
       "(2517, 10)"
      ]
     },
     "execution_count": 9,
     "metadata": {},
     "output_type": "execute_result"
    }
   ],
   "source": [
    "product_df.shape"
   ]
  },
  {
   "cell_type": "code",
   "execution_count": 11,
   "id": "0cd953a5",
   "metadata": {},
   "outputs": [
    {
     "data": {
      "text/plain": [
       "2517"
      ]
     },
     "execution_count": 11,
     "metadata": {},
     "output_type": "execute_result"
    }
   ],
   "source": [
    "product_df['product_key'].nunique()"
   ]
  },
  {
   "cell_type": "markdown",
   "id": "30f7cd06",
   "metadata": {},
   "source": [
    "This is the sign of a large retailr as they sell 2,517 unique electronic products."
   ]
  },
  {
   "cell_type": "code",
   "execution_count": 12,
   "id": "6b4c3f25",
   "metadata": {},
   "outputs": [
    {
     "data": {
      "text/plain": [
       "32"
      ]
     },
     "execution_count": 12,
     "metadata": {},
     "output_type": "execute_result"
    }
   ],
   "source": [
    "product_df.subcategory.nunique()"
   ]
  },
  {
   "cell_type": "code",
   "execution_count": 13,
   "id": "e918161a",
   "metadata": {},
   "outputs": [
    {
     "data": {
      "text/plain": [
       "array(['MP4&MP3', 'Recording Pen', 'Bluetooth Headphones', 'Televisions',\n",
       "       'VCD & DVD', 'Home Theater System', 'Car Video', 'Laptops',\n",
       "       'Desktops', 'Monitors', 'Projectors & Screens',\n",
       "       'Printers, Scanners & Fax', 'Computers Accessories',\n",
       "       'Digital Cameras', 'Digital SLR Cameras', 'Camcorders',\n",
       "       'Cameras & Camcorders Accessories', 'Home & Office Phones',\n",
       "       'Touch Screen Phones', 'Smart phones & PDAs', 'Movie DVD',\n",
       "       'Boxed Games', 'Download Games', 'Washers & Dryers',\n",
       "       'Refrigerators', 'Microwaves', 'Water Heaters', 'Coffee Machines',\n",
       "       'Lamps', 'Air Conditioners', 'Fans', 'Cell phones Accessories'],\n",
       "      dtype=object)"
      ]
     },
     "execution_count": 13,
     "metadata": {},
     "output_type": "execute_result"
    }
   ],
   "source": [
    "product_df.subcategory.unique()"
   ]
  },
  {
   "cell_type": "code",
   "execution_count": 14,
   "id": "490a81c1",
   "metadata": {},
   "outputs": [
    {
     "data": {
      "text/plain": [
       "product_key        0\n",
       "product_name       0\n",
       "brand              0\n",
       "color              0\n",
       "unit_cost_usd      0\n",
       "unit_price_usd     0\n",
       "subcategory_key    0\n",
       "subcategory        0\n",
       "category_key       0\n",
       "category           0\n",
       "dtype: int64"
      ]
     },
     "execution_count": 14,
     "metadata": {},
     "output_type": "execute_result"
    }
   ],
   "source": [
    "product_df.isna().sum()"
   ]
  },
  {
   "cell_type": "markdown",
   "id": "e31a4c9c",
   "metadata": {},
   "source": [
    "There are no missing values in the product_df, which is a great sign."
   ]
  },
  {
   "cell_type": "code",
   "execution_count": 15,
   "id": "55531bc1",
   "metadata": {},
   "outputs": [
    {
     "data": {
      "text/html": [
       "<div>\n",
       "<style scoped>\n",
       "    .dataframe tbody tr th:only-of-type {\n",
       "        vertical-align: middle;\n",
       "    }\n",
       "\n",
       "    .dataframe tbody tr th {\n",
       "        vertical-align: top;\n",
       "    }\n",
       "\n",
       "    .dataframe thead th {\n",
       "        text-align: right;\n",
       "    }\n",
       "</style>\n",
       "<table border=\"1\" class=\"dataframe\">\n",
       "  <thead>\n",
       "    <tr style=\"text-align: right;\">\n",
       "      <th></th>\n",
       "      <th>product_key</th>\n",
       "      <th>subcategory_key</th>\n",
       "      <th>category_key</th>\n",
       "    </tr>\n",
       "  </thead>\n",
       "  <tbody>\n",
       "    <tr>\n",
       "      <th>count</th>\n",
       "      <td>2517.000000</td>\n",
       "      <td>2517.000000</td>\n",
       "      <td>2517.000000</td>\n",
       "    </tr>\n",
       "    <tr>\n",
       "      <th>mean</th>\n",
       "      <td>1259.000000</td>\n",
       "      <td>491.810091</td>\n",
       "      <td>4.878824</td>\n",
       "    </tr>\n",
       "    <tr>\n",
       "      <th>std</th>\n",
       "      <td>726.739637</td>\n",
       "      <td>229.887134</td>\n",
       "      <td>2.299170</td>\n",
       "    </tr>\n",
       "    <tr>\n",
       "      <th>min</th>\n",
       "      <td>1.000000</td>\n",
       "      <td>101.000000</td>\n",
       "      <td>1.000000</td>\n",
       "    </tr>\n",
       "    <tr>\n",
       "      <th>25%</th>\n",
       "      <td>630.000000</td>\n",
       "      <td>305.000000</td>\n",
       "      <td>3.000000</td>\n",
       "    </tr>\n",
       "    <tr>\n",
       "      <th>50%</th>\n",
       "      <td>1259.000000</td>\n",
       "      <td>406.000000</td>\n",
       "      <td>4.000000</td>\n",
       "    </tr>\n",
       "    <tr>\n",
       "      <th>75%</th>\n",
       "      <td>1888.000000</td>\n",
       "      <td>801.000000</td>\n",
       "      <td>8.000000</td>\n",
       "    </tr>\n",
       "    <tr>\n",
       "      <th>max</th>\n",
       "      <td>2517.000000</td>\n",
       "      <td>808.000000</td>\n",
       "      <td>8.000000</td>\n",
       "    </tr>\n",
       "  </tbody>\n",
       "</table>\n",
       "</div>"
      ],
      "text/plain": [
       "       product_key  subcategory_key  category_key\n",
       "count  2517.000000      2517.000000   2517.000000\n",
       "mean   1259.000000       491.810091      4.878824\n",
       "std     726.739637       229.887134      2.299170\n",
       "min       1.000000       101.000000      1.000000\n",
       "25%     630.000000       305.000000      3.000000\n",
       "50%    1259.000000       406.000000      4.000000\n",
       "75%    1888.000000       801.000000      8.000000\n",
       "max    2517.000000       808.000000      8.000000"
      ]
     },
     "execution_count": 15,
     "metadata": {},
     "output_type": "execute_result"
    }
   ],
   "source": [
    "product_df.describe()"
   ]
  },
  {
   "cell_type": "code",
   "execution_count": 16,
   "id": "977ad353",
   "metadata": {},
   "outputs": [
    {
     "name": "stdout",
     "output_type": "stream",
     "text": [
      "<class 'pandas.core.frame.DataFrame'>\n",
      "RangeIndex: 2517 entries, 0 to 2516\n",
      "Data columns (total 10 columns):\n",
      " #   Column           Non-Null Count  Dtype \n",
      "---  ------           --------------  ----- \n",
      " 0   product_key      2517 non-null   int64 \n",
      " 1   product_name     2517 non-null   object\n",
      " 2   brand            2517 non-null   object\n",
      " 3   color            2517 non-null   object\n",
      " 4   unit_cost_usd    2517 non-null   object\n",
      " 5   unit_price_usd   2517 non-null   object\n",
      " 6   subcategory_key  2517 non-null   int64 \n",
      " 7   subcategory      2517 non-null   object\n",
      " 8   category_key     2517 non-null   int64 \n",
      " 9   category         2517 non-null   object\n",
      "dtypes: int64(3), object(7)\n",
      "memory usage: 196.8+ KB\n"
     ]
    }
   ],
   "source": [
    "product_df.info()"
   ]
  },
  {
   "cell_type": "markdown",
   "id": "63873b1e",
   "metadata": {},
   "source": [
    "It looks like unit cost and unit price are object types and should be numeric. This is likely because the data contains a '$' before the amount. We'll clean this now:"
   ]
  },
  {
   "cell_type": "code",
   "execution_count": 17,
   "id": "70f976a4",
   "metadata": {},
   "outputs": [
    {
     "data": {
      "text/html": [
       "<div>\n",
       "<style scoped>\n",
       "    .dataframe tbody tr th:only-of-type {\n",
       "        vertical-align: middle;\n",
       "    }\n",
       "\n",
       "    .dataframe tbody tr th {\n",
       "        vertical-align: top;\n",
       "    }\n",
       "\n",
       "    .dataframe thead th {\n",
       "        text-align: right;\n",
       "    }\n",
       "</style>\n",
       "<table border=\"1\" class=\"dataframe\">\n",
       "  <thead>\n",
       "    <tr style=\"text-align: right;\">\n",
       "      <th></th>\n",
       "      <th>unit_cost_usd</th>\n",
       "      <th>unit_price_usd</th>\n",
       "    </tr>\n",
       "  </thead>\n",
       "  <tbody>\n",
       "    <tr>\n",
       "      <th>0</th>\n",
       "      <td>$6.62</td>\n",
       "      <td>$12.99</td>\n",
       "    </tr>\n",
       "    <tr>\n",
       "      <th>1</th>\n",
       "      <td>$6.62</td>\n",
       "      <td>$12.99</td>\n",
       "    </tr>\n",
       "    <tr>\n",
       "      <th>2</th>\n",
       "      <td>$7.40</td>\n",
       "      <td>$14.52</td>\n",
       "    </tr>\n",
       "    <tr>\n",
       "      <th>3</th>\n",
       "      <td>$11.00</td>\n",
       "      <td>$21.57</td>\n",
       "    </tr>\n",
       "    <tr>\n",
       "      <th>4</th>\n",
       "      <td>$11.00</td>\n",
       "      <td>$21.57</td>\n",
       "    </tr>\n",
       "  </tbody>\n",
       "</table>\n",
       "</div>"
      ],
      "text/plain": [
       "  unit_cost_usd unit_price_usd\n",
       "0        $6.62         $12.99 \n",
       "1        $6.62         $12.99 \n",
       "2        $7.40         $14.52 \n",
       "3       $11.00         $21.57 \n",
       "4       $11.00         $21.57 "
      ]
     },
     "execution_count": 17,
     "metadata": {},
     "output_type": "execute_result"
    }
   ],
   "source": [
    "product_df[['unit_cost_usd', 'unit_price_usd']].head()"
   ]
  },
  {
   "cell_type": "markdown",
   "id": "5715d12e",
   "metadata": {},
   "source": [
    "To resolve this, we need to:\n",
    "\n",
    "1. Remove the dollar sign.\n",
    "2. Remove any commas.\n",
    "3. Strip any leading or trailing whitespace.\n",
    "4. Finally, convert to float."
   ]
  },
  {
   "cell_type": "code",
   "execution_count": 18,
   "id": "c051b43b",
   "metadata": {},
   "outputs": [],
   "source": [
    "product_df['unit_cost_usd'] = (\n",
    "    product_df['unit_cost_usd']\n",
    "    .replace({'\\$': '', ',':'', ' ':''},regex=True) #This ensures that all specified characters are removed in one go.\n",
    "    .astype(float)\n",
    ")"
   ]
  },
  {
   "cell_type": "code",
   "execution_count": 19,
   "id": "1c33ad45",
   "metadata": {},
   "outputs": [
    {
     "data": {
      "text/plain": [
       "0     6.62\n",
       "1     6.62\n",
       "2     7.40\n",
       "3    11.00\n",
       "4    11.00\n",
       "Name: unit_cost_usd, dtype: float64"
      ]
     },
     "execution_count": 19,
     "metadata": {},
     "output_type": "execute_result"
    }
   ],
   "source": [
    "product_df['unit_cost_usd'].head()"
   ]
  },
  {
   "cell_type": "code",
   "execution_count": 20,
   "id": "106d8823",
   "metadata": {},
   "outputs": [],
   "source": [
    "product_df['unit_price_usd'] = (\n",
    "    product_df['unit_price_usd']\n",
    "    .replace({'\\$':'', ',':'', ' ':''}, regex=True)\n",
    "    .astype(float)\n",
    ")"
   ]
  },
  {
   "cell_type": "code",
   "execution_count": 21,
   "id": "43e5aad4",
   "metadata": {},
   "outputs": [
    {
     "data": {
      "text/plain": [
       "0    12.99\n",
       "1    12.99\n",
       "2    14.52\n",
       "3    21.57\n",
       "4    21.57\n",
       "Name: unit_price_usd, dtype: float64"
      ]
     },
     "execution_count": 21,
     "metadata": {},
     "output_type": "execute_result"
    }
   ],
   "source": [
    "product_df['unit_price_usd'].head()"
   ]
  },
  {
   "cell_type": "code",
   "execution_count": 22,
   "id": "0afba9f1",
   "metadata": {},
   "outputs": [
    {
     "data": {
      "text/html": [
       "<div>\n",
       "<style scoped>\n",
       "    .dataframe tbody tr th:only-of-type {\n",
       "        vertical-align: middle;\n",
       "    }\n",
       "\n",
       "    .dataframe tbody tr th {\n",
       "        vertical-align: top;\n",
       "    }\n",
       "\n",
       "    .dataframe thead th {\n",
       "        text-align: right;\n",
       "    }\n",
       "</style>\n",
       "<table border=\"1\" class=\"dataframe\">\n",
       "  <thead>\n",
       "    <tr style=\"text-align: right;\">\n",
       "      <th></th>\n",
       "      <th>product_key</th>\n",
       "      <th>unit_cost_usd</th>\n",
       "      <th>unit_price_usd</th>\n",
       "      <th>subcategory_key</th>\n",
       "      <th>category_key</th>\n",
       "    </tr>\n",
       "  </thead>\n",
       "  <tbody>\n",
       "    <tr>\n",
       "      <th>count</th>\n",
       "      <td>2517.000000</td>\n",
       "      <td>2517.000000</td>\n",
       "      <td>2517.000000</td>\n",
       "      <td>2517.000000</td>\n",
       "      <td>2517.000000</td>\n",
       "    </tr>\n",
       "    <tr>\n",
       "      <th>mean</th>\n",
       "      <td>1259.000000</td>\n",
       "      <td>147.655562</td>\n",
       "      <td>356.830131</td>\n",
       "      <td>491.810091</td>\n",
       "      <td>4.878824</td>\n",
       "    </tr>\n",
       "    <tr>\n",
       "      <th>std</th>\n",
       "      <td>726.739637</td>\n",
       "      <td>184.373683</td>\n",
       "      <td>494.054962</td>\n",
       "      <td>229.887134</td>\n",
       "      <td>2.299170</td>\n",
       "    </tr>\n",
       "    <tr>\n",
       "      <th>min</th>\n",
       "      <td>1.000000</td>\n",
       "      <td>0.480000</td>\n",
       "      <td>0.950000</td>\n",
       "      <td>101.000000</td>\n",
       "      <td>1.000000</td>\n",
       "    </tr>\n",
       "    <tr>\n",
       "      <th>25%</th>\n",
       "      <td>630.000000</td>\n",
       "      <td>32.250000</td>\n",
       "      <td>69.000000</td>\n",
       "      <td>305.000000</td>\n",
       "      <td>3.000000</td>\n",
       "    </tr>\n",
       "    <tr>\n",
       "      <th>50%</th>\n",
       "      <td>1259.000000</td>\n",
       "      <td>86.670000</td>\n",
       "      <td>199.990000</td>\n",
       "      <td>406.000000</td>\n",
       "      <td>4.000000</td>\n",
       "    </tr>\n",
       "    <tr>\n",
       "      <th>75%</th>\n",
       "      <td>1888.000000</td>\n",
       "      <td>183.950000</td>\n",
       "      <td>410.000000</td>\n",
       "      <td>801.000000</td>\n",
       "      <td>8.000000</td>\n",
       "    </tr>\n",
       "    <tr>\n",
       "      <th>max</th>\n",
       "      <td>2517.000000</td>\n",
       "      <td>1060.220000</td>\n",
       "      <td>3199.990000</td>\n",
       "      <td>808.000000</td>\n",
       "      <td>8.000000</td>\n",
       "    </tr>\n",
       "  </tbody>\n",
       "</table>\n",
       "</div>"
      ],
      "text/plain": [
       "       product_key  unit_cost_usd  unit_price_usd  subcategory_key  \\\n",
       "count  2517.000000    2517.000000     2517.000000      2517.000000   \n",
       "mean   1259.000000     147.655562      356.830131       491.810091   \n",
       "std     726.739637     184.373683      494.054962       229.887134   \n",
       "min       1.000000       0.480000        0.950000       101.000000   \n",
       "25%     630.000000      32.250000       69.000000       305.000000   \n",
       "50%    1259.000000      86.670000      199.990000       406.000000   \n",
       "75%    1888.000000     183.950000      410.000000       801.000000   \n",
       "max    2517.000000    1060.220000     3199.990000       808.000000   \n",
       "\n",
       "       category_key  \n",
       "count   2517.000000  \n",
       "mean       4.878824  \n",
       "std        2.299170  \n",
       "min        1.000000  \n",
       "25%        3.000000  \n",
       "50%        4.000000  \n",
       "75%        8.000000  \n",
       "max        8.000000  "
      ]
     },
     "execution_count": 22,
     "metadata": {},
     "output_type": "execute_result"
    }
   ],
   "source": [
    "product_df.describe()"
   ]
  },
  {
   "cell_type": "markdown",
   "id": "76e2a58b",
   "metadata": {},
   "source": [
    "We can see now that the unit cost and unit price columns have been converted into numeric format. The statistical summary of these two columns suggests a wide range of values, which typically indicates that there is a lot of variance. We can see that this company sells products as cheap as 95cents USD to over 3,000.\n",
    "\n",
    "Once more we will check if there are missing values to ensure nothing went wrong during our conversion:"
   ]
  },
  {
   "cell_type": "code",
   "execution_count": 23,
   "id": "2f46c47a",
   "metadata": {},
   "outputs": [
    {
     "data": {
      "text/plain": [
       "product_key        0\n",
       "product_name       0\n",
       "brand              0\n",
       "color              0\n",
       "unit_cost_usd      0\n",
       "unit_price_usd     0\n",
       "subcategory_key    0\n",
       "subcategory        0\n",
       "category_key       0\n",
       "category           0\n",
       "dtype: int64"
      ]
     },
     "execution_count": 23,
     "metadata": {},
     "output_type": "execute_result"
    }
   ],
   "source": [
    "product_df.isna().sum()"
   ]
  },
  {
   "cell_type": "markdown",
   "id": "0ef60541",
   "metadata": {},
   "source": [
    "To recap the Product Dataframe:\n",
    "\n",
    "- **product_key**         :Primary key to identify products (int)\n",
    "- **product_name**        :Product Name (Object)\n",
    "- **brand**               :Product Brand (Object)\n",
    "- **color**               :Product Color (Object)\n",
    "- **unit_cost_usd**       :Cost to produce product in USD (float)\n",
    "- **unit_price_usd**      :Product list price in USD (float)\n",
    "- **subcategory_key**     :Key to identify product subcategories (int)\n",
    "- **ubcategory**         :Subcategory Name (Object)\n",
    "- **categorykey**         :Key to identify product categories (int)\n",
    "- **category**            :Product Category Name (Object)\n"
   ]
  },
  {
   "cell_type": "markdown",
   "id": "e321b126",
   "metadata": {},
   "source": [
    "# Sales DataFrame"
   ]
  },
  {
   "cell_type": "markdown",
   "id": "535b1815",
   "metadata": {},
   "source": [
    "Now we want to import the Sales DataFrame and inspect it as we did before. The Sales data containes the actual transaction history of our retailer. Here we'll find out the quantities that were actually sold, tied to unique customers and other information such as the store locations, order dates etc. "
   ]
  },
  {
   "cell_type": "code",
   "execution_count": 36,
   "id": "a5231d5f",
   "metadata": {},
   "outputs": [],
   "source": [
    "file_path = '~/Desktop/Sales.csv'\n",
    "\n",
    "sales_df = pd.read_csv(file_path)"
   ]
  },
  {
   "cell_type": "code",
   "execution_count": 37,
   "id": "f48dcc1b",
   "metadata": {},
   "outputs": [
    {
     "data": {
      "text/html": [
       "<div>\n",
       "<style scoped>\n",
       "    .dataframe tbody tr th:only-of-type {\n",
       "        vertical-align: middle;\n",
       "    }\n",
       "\n",
       "    .dataframe tbody tr th {\n",
       "        vertical-align: top;\n",
       "    }\n",
       "\n",
       "    .dataframe thead th {\n",
       "        text-align: right;\n",
       "    }\n",
       "</style>\n",
       "<table border=\"1\" class=\"dataframe\">\n",
       "  <thead>\n",
       "    <tr style=\"text-align: right;\">\n",
       "      <th></th>\n",
       "      <th>order_number</th>\n",
       "      <th>line_item</th>\n",
       "      <th>order_date</th>\n",
       "      <th>delivery_date</th>\n",
       "      <th>customer_key</th>\n",
       "      <th>store_key</th>\n",
       "      <th>product_key</th>\n",
       "      <th>quantity</th>\n",
       "      <th>currency_code</th>\n",
       "    </tr>\n",
       "  </thead>\n",
       "  <tbody>\n",
       "    <tr>\n",
       "      <th>0</th>\n",
       "      <td>366000</td>\n",
       "      <td>1</td>\n",
       "      <td>1/1/2016</td>\n",
       "      <td>NaN</td>\n",
       "      <td>265598</td>\n",
       "      <td>10</td>\n",
       "      <td>1304</td>\n",
       "      <td>1</td>\n",
       "      <td>CAD</td>\n",
       "    </tr>\n",
       "    <tr>\n",
       "      <th>1</th>\n",
       "      <td>366001</td>\n",
       "      <td>1</td>\n",
       "      <td>1/1/2016</td>\n",
       "      <td>1/13/2016</td>\n",
       "      <td>1269051</td>\n",
       "      <td>0</td>\n",
       "      <td>1048</td>\n",
       "      <td>2</td>\n",
       "      <td>USD</td>\n",
       "    </tr>\n",
       "    <tr>\n",
       "      <th>2</th>\n",
       "      <td>366001</td>\n",
       "      <td>2</td>\n",
       "      <td>1/1/2016</td>\n",
       "      <td>1/13/2016</td>\n",
       "      <td>1269051</td>\n",
       "      <td>0</td>\n",
       "      <td>2007</td>\n",
       "      <td>1</td>\n",
       "      <td>USD</td>\n",
       "    </tr>\n",
       "    <tr>\n",
       "      <th>3</th>\n",
       "      <td>366002</td>\n",
       "      <td>1</td>\n",
       "      <td>1/1/2016</td>\n",
       "      <td>1/12/2016</td>\n",
       "      <td>266019</td>\n",
       "      <td>0</td>\n",
       "      <td>1106</td>\n",
       "      <td>7</td>\n",
       "      <td>CAD</td>\n",
       "    </tr>\n",
       "    <tr>\n",
       "      <th>4</th>\n",
       "      <td>366002</td>\n",
       "      <td>2</td>\n",
       "      <td>1/1/2016</td>\n",
       "      <td>1/12/2016</td>\n",
       "      <td>266019</td>\n",
       "      <td>0</td>\n",
       "      <td>373</td>\n",
       "      <td>1</td>\n",
       "      <td>CAD</td>\n",
       "    </tr>\n",
       "  </tbody>\n",
       "</table>\n",
       "</div>"
      ],
      "text/plain": [
       "   order_number  line_item order_date delivery_date  customer_key  store_key  \\\n",
       "0        366000          1   1/1/2016           NaN        265598         10   \n",
       "1        366001          1   1/1/2016     1/13/2016       1269051          0   \n",
       "2        366001          2   1/1/2016     1/13/2016       1269051          0   \n",
       "3        366002          1   1/1/2016     1/12/2016        266019          0   \n",
       "4        366002          2   1/1/2016     1/12/2016        266019          0   \n",
       "\n",
       "   product_key  quantity currency_code  \n",
       "0         1304         1           CAD  \n",
       "1         1048         2           USD  \n",
       "2         2007         1           USD  \n",
       "3         1106         7           CAD  \n",
       "4          373         1           CAD  "
      ]
     },
     "execution_count": 37,
     "metadata": {},
     "output_type": "execute_result"
    }
   ],
   "source": [
    "sales_df.head()"
   ]
  },
  {
   "cell_type": "markdown",
   "id": "26412a03",
   "metadata": {},
   "source": [
    "One thing we can flag right away is that our retailer operates across different countries, as we can see both USD and CAD are listed for currencies. We will inspect this further and we might have to create a column to convert currencies isn't to one baseline for easier comparison, and another column to ensure we preserve the location of stores.\n",
    "\n",
    "But first, like we did before, here is our preliminary checklist to explore the dataframe:\n",
    "\n",
    "- Shape of the dataset\n",
    "- Missing Values\n",
    "- Summary Statistics"
   ]
  },
  {
   "cell_type": "code",
   "execution_count": 38,
   "id": "b1a7bd79",
   "metadata": {},
   "outputs": [
    {
     "data": {
      "text/plain": [
       "(62884, 9)"
      ]
     },
     "execution_count": 38,
     "metadata": {},
     "output_type": "execute_result"
    }
   ],
   "source": [
    "sales_df.shape"
   ]
  },
  {
   "cell_type": "code",
   "execution_count": 39,
   "id": "bd66c497",
   "metadata": {},
   "outputs": [
    {
     "data": {
      "text/plain": [
       "order_number         0\n",
       "line_item            0\n",
       "order_date           0\n",
       "delivery_date    49719\n",
       "customer_key         0\n",
       "store_key            0\n",
       "product_key          0\n",
       "quantity             0\n",
       "currency_code        0\n",
       "dtype: int64"
      ]
     },
     "execution_count": 39,
     "metadata": {},
     "output_type": "execute_result"
    }
   ],
   "source": [
    "sales_df.isna().sum()"
   ]
  },
  {
   "cell_type": "markdown",
   "id": "0b0c29b4",
   "metadata": {},
   "source": [
    "Here we can see that delivery date is missing a staggering 79% of the data. If this was a real client we were working for we would definitely flag this and raise the issue to the client to inspect why there are missing delivery date values. This may be something the business would want to correct for. \n",
    "\n",
    "However, for our analysis, given how much data is missing in this column, we will delete it entirely as it will not help us with our analysis. "
   ]
  },
  {
   "cell_type": "code",
   "execution_count": 40,
   "id": "738a2442",
   "metadata": {},
   "outputs": [],
   "source": [
    "sales_df.drop(columns='delivery_date', inplace=True)"
   ]
  },
  {
   "cell_type": "code",
   "execution_count": 41,
   "id": "9083459a",
   "metadata": {},
   "outputs": [
    {
     "data": {
      "text/html": [
       "<div>\n",
       "<style scoped>\n",
       "    .dataframe tbody tr th:only-of-type {\n",
       "        vertical-align: middle;\n",
       "    }\n",
       "\n",
       "    .dataframe tbody tr th {\n",
       "        vertical-align: top;\n",
       "    }\n",
       "\n",
       "    .dataframe thead th {\n",
       "        text-align: right;\n",
       "    }\n",
       "</style>\n",
       "<table border=\"1\" class=\"dataframe\">\n",
       "  <thead>\n",
       "    <tr style=\"text-align: right;\">\n",
       "      <th></th>\n",
       "      <th>order_number</th>\n",
       "      <th>line_item</th>\n",
       "      <th>order_date</th>\n",
       "      <th>customer_key</th>\n",
       "      <th>store_key</th>\n",
       "      <th>product_key</th>\n",
       "      <th>quantity</th>\n",
       "      <th>currency_code</th>\n",
       "    </tr>\n",
       "  </thead>\n",
       "  <tbody>\n",
       "    <tr>\n",
       "      <th>0</th>\n",
       "      <td>366000</td>\n",
       "      <td>1</td>\n",
       "      <td>1/1/2016</td>\n",
       "      <td>265598</td>\n",
       "      <td>10</td>\n",
       "      <td>1304</td>\n",
       "      <td>1</td>\n",
       "      <td>CAD</td>\n",
       "    </tr>\n",
       "    <tr>\n",
       "      <th>1</th>\n",
       "      <td>366001</td>\n",
       "      <td>1</td>\n",
       "      <td>1/1/2016</td>\n",
       "      <td>1269051</td>\n",
       "      <td>0</td>\n",
       "      <td>1048</td>\n",
       "      <td>2</td>\n",
       "      <td>USD</td>\n",
       "    </tr>\n",
       "    <tr>\n",
       "      <th>2</th>\n",
       "      <td>366001</td>\n",
       "      <td>2</td>\n",
       "      <td>1/1/2016</td>\n",
       "      <td>1269051</td>\n",
       "      <td>0</td>\n",
       "      <td>2007</td>\n",
       "      <td>1</td>\n",
       "      <td>USD</td>\n",
       "    </tr>\n",
       "    <tr>\n",
       "      <th>3</th>\n",
       "      <td>366002</td>\n",
       "      <td>1</td>\n",
       "      <td>1/1/2016</td>\n",
       "      <td>266019</td>\n",
       "      <td>0</td>\n",
       "      <td>1106</td>\n",
       "      <td>7</td>\n",
       "      <td>CAD</td>\n",
       "    </tr>\n",
       "    <tr>\n",
       "      <th>4</th>\n",
       "      <td>366002</td>\n",
       "      <td>2</td>\n",
       "      <td>1/1/2016</td>\n",
       "      <td>266019</td>\n",
       "      <td>0</td>\n",
       "      <td>373</td>\n",
       "      <td>1</td>\n",
       "      <td>CAD</td>\n",
       "    </tr>\n",
       "    <tr>\n",
       "      <th>...</th>\n",
       "      <td>...</td>\n",
       "      <td>...</td>\n",
       "      <td>...</td>\n",
       "      <td>...</td>\n",
       "      <td>...</td>\n",
       "      <td>...</td>\n",
       "      <td>...</td>\n",
       "      <td>...</td>\n",
       "    </tr>\n",
       "    <tr>\n",
       "      <th>62879</th>\n",
       "      <td>2243030</td>\n",
       "      <td>1</td>\n",
       "      <td>2/20/2021</td>\n",
       "      <td>1216913</td>\n",
       "      <td>43</td>\n",
       "      <td>632</td>\n",
       "      <td>3</td>\n",
       "      <td>USD</td>\n",
       "    </tr>\n",
       "    <tr>\n",
       "      <th>62880</th>\n",
       "      <td>2243031</td>\n",
       "      <td>1</td>\n",
       "      <td>2/20/2021</td>\n",
       "      <td>511229</td>\n",
       "      <td>0</td>\n",
       "      <td>98</td>\n",
       "      <td>4</td>\n",
       "      <td>EUR</td>\n",
       "    </tr>\n",
       "    <tr>\n",
       "      <th>62881</th>\n",
       "      <td>2243032</td>\n",
       "      <td>1</td>\n",
       "      <td>2/20/2021</td>\n",
       "      <td>331277</td>\n",
       "      <td>0</td>\n",
       "      <td>1613</td>\n",
       "      <td>2</td>\n",
       "      <td>CAD</td>\n",
       "    </tr>\n",
       "    <tr>\n",
       "      <th>62882</th>\n",
       "      <td>2243032</td>\n",
       "      <td>2</td>\n",
       "      <td>2/20/2021</td>\n",
       "      <td>331277</td>\n",
       "      <td>0</td>\n",
       "      <td>1717</td>\n",
       "      <td>2</td>\n",
       "      <td>CAD</td>\n",
       "    </tr>\n",
       "    <tr>\n",
       "      <th>62883</th>\n",
       "      <td>2243032</td>\n",
       "      <td>3</td>\n",
       "      <td>2/20/2021</td>\n",
       "      <td>331277</td>\n",
       "      <td>0</td>\n",
       "      <td>464</td>\n",
       "      <td>7</td>\n",
       "      <td>CAD</td>\n",
       "    </tr>\n",
       "  </tbody>\n",
       "</table>\n",
       "<p>62884 rows × 8 columns</p>\n",
       "</div>"
      ],
      "text/plain": [
       "       order_number  line_item order_date  customer_key  store_key  \\\n",
       "0            366000          1   1/1/2016        265598         10   \n",
       "1            366001          1   1/1/2016       1269051          0   \n",
       "2            366001          2   1/1/2016       1269051          0   \n",
       "3            366002          1   1/1/2016        266019          0   \n",
       "4            366002          2   1/1/2016        266019          0   \n",
       "...             ...        ...        ...           ...        ...   \n",
       "62879       2243030          1  2/20/2021       1216913         43   \n",
       "62880       2243031          1  2/20/2021        511229          0   \n",
       "62881       2243032          1  2/20/2021        331277          0   \n",
       "62882       2243032          2  2/20/2021        331277          0   \n",
       "62883       2243032          3  2/20/2021        331277          0   \n",
       "\n",
       "       product_key  quantity currency_code  \n",
       "0             1304         1           CAD  \n",
       "1             1048         2           USD  \n",
       "2             2007         1           USD  \n",
       "3             1106         7           CAD  \n",
       "4              373         1           CAD  \n",
       "...            ...       ...           ...  \n",
       "62879          632         3           USD  \n",
       "62880           98         4           EUR  \n",
       "62881         1613         2           CAD  \n",
       "62882         1717         2           CAD  \n",
       "62883          464         7           CAD  \n",
       "\n",
       "[62884 rows x 8 columns]"
      ]
     },
     "execution_count": 41,
     "metadata": {},
     "output_type": "execute_result"
    }
   ],
   "source": [
    "sales_df"
   ]
  },
  {
   "cell_type": "code",
   "execution_count": 42,
   "id": "c64eb7e4",
   "metadata": {},
   "outputs": [
    {
     "name": "stdout",
     "output_type": "stream",
     "text": [
      "<class 'pandas.core.frame.DataFrame'>\n",
      "RangeIndex: 62884 entries, 0 to 62883\n",
      "Data columns (total 8 columns):\n",
      " #   Column         Non-Null Count  Dtype \n",
      "---  ------         --------------  ----- \n",
      " 0   order_number   62884 non-null  int64 \n",
      " 1   line_item      62884 non-null  int64 \n",
      " 2   order_date     62884 non-null  object\n",
      " 3   customer_key   62884 non-null  int64 \n",
      " 4   store_key      62884 non-null  int64 \n",
      " 5   product_key    62884 non-null  int64 \n",
      " 6   quantity       62884 non-null  int64 \n",
      " 7   currency_code  62884 non-null  object\n",
      "dtypes: int64(6), object(2)\n",
      "memory usage: 3.8+ MB\n"
     ]
    }
   ],
   "source": [
    "sales_df.info()"
   ]
  },
  {
   "cell_type": "code",
   "execution_count": 43,
   "id": "189c7f96",
   "metadata": {},
   "outputs": [
    {
     "data": {
      "text/html": [
       "<div>\n",
       "<style scoped>\n",
       "    .dataframe tbody tr th:only-of-type {\n",
       "        vertical-align: middle;\n",
       "    }\n",
       "\n",
       "    .dataframe tbody tr th {\n",
       "        vertical-align: top;\n",
       "    }\n",
       "\n",
       "    .dataframe thead th {\n",
       "        text-align: right;\n",
       "    }\n",
       "</style>\n",
       "<table border=\"1\" class=\"dataframe\">\n",
       "  <thead>\n",
       "    <tr style=\"text-align: right;\">\n",
       "      <th></th>\n",
       "      <th>order_number</th>\n",
       "      <th>line_item</th>\n",
       "      <th>customer_key</th>\n",
       "      <th>store_key</th>\n",
       "      <th>product_key</th>\n",
       "      <th>quantity</th>\n",
       "    </tr>\n",
       "  </thead>\n",
       "  <tbody>\n",
       "    <tr>\n",
       "      <th>count</th>\n",
       "      <td>6.288400e+04</td>\n",
       "      <td>62884.000000</td>\n",
       "      <td>6.288400e+04</td>\n",
       "      <td>62884.000000</td>\n",
       "      <td>62884.000000</td>\n",
       "      <td>62884.000000</td>\n",
       "    </tr>\n",
       "    <tr>\n",
       "      <th>mean</th>\n",
       "      <td>1.430905e+06</td>\n",
       "      <td>2.164207</td>\n",
       "      <td>1.180797e+06</td>\n",
       "      <td>31.802144</td>\n",
       "      <td>1125.859344</td>\n",
       "      <td>3.144790</td>\n",
       "    </tr>\n",
       "    <tr>\n",
       "      <th>std</th>\n",
       "      <td>4.532963e+05</td>\n",
       "      <td>1.365170</td>\n",
       "      <td>5.859634e+05</td>\n",
       "      <td>22.978188</td>\n",
       "      <td>709.244010</td>\n",
       "      <td>2.256371</td>\n",
       "    </tr>\n",
       "    <tr>\n",
       "      <th>min</th>\n",
       "      <td>3.660000e+05</td>\n",
       "      <td>1.000000</td>\n",
       "      <td>3.010000e+02</td>\n",
       "      <td>0.000000</td>\n",
       "      <td>1.000000</td>\n",
       "      <td>1.000000</td>\n",
       "    </tr>\n",
       "    <tr>\n",
       "      <th>25%</th>\n",
       "      <td>1.121017e+06</td>\n",
       "      <td>1.000000</td>\n",
       "      <td>6.808580e+05</td>\n",
       "      <td>8.000000</td>\n",
       "      <td>437.000000</td>\n",
       "      <td>1.000000</td>\n",
       "    </tr>\n",
       "    <tr>\n",
       "      <th>50%</th>\n",
       "      <td>1.498016e+06</td>\n",
       "      <td>2.000000</td>\n",
       "      <td>1.261200e+06</td>\n",
       "      <td>37.000000</td>\n",
       "      <td>1358.000000</td>\n",
       "      <td>2.000000</td>\n",
       "    </tr>\n",
       "    <tr>\n",
       "      <th>75%</th>\n",
       "      <td>1.788010e+06</td>\n",
       "      <td>3.000000</td>\n",
       "      <td>1.686496e+06</td>\n",
       "      <td>53.000000</td>\n",
       "      <td>1650.000000</td>\n",
       "      <td>4.000000</td>\n",
       "    </tr>\n",
       "    <tr>\n",
       "      <th>max</th>\n",
       "      <td>2.243032e+06</td>\n",
       "      <td>7.000000</td>\n",
       "      <td>2.099937e+06</td>\n",
       "      <td>66.000000</td>\n",
       "      <td>2517.000000</td>\n",
       "      <td>10.000000</td>\n",
       "    </tr>\n",
       "  </tbody>\n",
       "</table>\n",
       "</div>"
      ],
      "text/plain": [
       "       order_number     line_item  customer_key     store_key   product_key  \\\n",
       "count  6.288400e+04  62884.000000  6.288400e+04  62884.000000  62884.000000   \n",
       "mean   1.430905e+06      2.164207  1.180797e+06     31.802144   1125.859344   \n",
       "std    4.532963e+05      1.365170  5.859634e+05     22.978188    709.244010   \n",
       "min    3.660000e+05      1.000000  3.010000e+02      0.000000      1.000000   \n",
       "25%    1.121017e+06      1.000000  6.808580e+05      8.000000    437.000000   \n",
       "50%    1.498016e+06      2.000000  1.261200e+06     37.000000   1358.000000   \n",
       "75%    1.788010e+06      3.000000  1.686496e+06     53.000000   1650.000000   \n",
       "max    2.243032e+06      7.000000  2.099937e+06     66.000000   2517.000000   \n",
       "\n",
       "           quantity  \n",
       "count  62884.000000  \n",
       "mean       3.144790  \n",
       "std        2.256371  \n",
       "min        1.000000  \n",
       "25%        1.000000  \n",
       "50%        2.000000  \n",
       "75%        4.000000  \n",
       "max       10.000000  "
      ]
     },
     "execution_count": 43,
     "metadata": {},
     "output_type": "execute_result"
    }
   ],
   "source": [
    "sales_df.describe()"
   ]
  },
  {
   "cell_type": "markdown",
   "id": "6629ec1f",
   "metadata": {},
   "source": [
    "The average quantity of units sold is 3 per order and our maxium sold is 10. Of course the minimum is 1 to indicate that a sales has been made. \n",
    "\n",
    "We can take a quick sneak peak at the unique currency types and get a sense for which currency has the most amount of quantity sold (we will explore relationships further later on):"
   ]
  },
  {
   "cell_type": "code",
   "execution_count": 44,
   "id": "10bf42f1",
   "metadata": {},
   "outputs": [
    {
     "data": {
      "text/plain": [
       "58"
      ]
     },
     "execution_count": 44,
     "metadata": {},
     "output_type": "execute_result"
    }
   ],
   "source": [
    "sales_df.store_key.nunique()"
   ]
  },
  {
   "cell_type": "code",
   "execution_count": 45,
   "id": "d71ab783",
   "metadata": {},
   "outputs": [
    {
     "data": {
      "text/plain": [
       "11887"
      ]
     },
     "execution_count": 45,
     "metadata": {},
     "output_type": "execute_result"
    }
   ],
   "source": [
    "sales_df.customer_key.nunique()"
   ]
  },
  {
   "cell_type": "code",
   "execution_count": 46,
   "id": "b85e482e",
   "metadata": {},
   "outputs": [
    {
     "data": {
      "text/plain": [
       "2492"
      ]
     },
     "execution_count": 46,
     "metadata": {},
     "output_type": "execute_result"
    }
   ],
   "source": [
    "sales_df.product_key.nunique()"
   ]
  },
  {
   "cell_type": "markdown",
   "id": "47cadb5e",
   "metadata": {},
   "source": [
    "Our company is selling across 58 different stores, to 11,887 unique customers, in 5 different currencies and 2,492 unique products have been sold. \n",
    "\n",
    "This is a good time to note that in our previous 'Products' Dataframe, we uncovered that we have 2517 unique products; **which means 25 products are not generating sales.** \n",
    "\n",
    "We will make a note of that and investigate these products later ."
   ]
  },
  {
   "cell_type": "markdown",
   "id": "97862611",
   "metadata": {},
   "source": [
    "# Merging DataFrames"
   ]
  },
  {
   "cell_type": "markdown",
   "id": "8ab8714a",
   "metadata": {},
   "source": [
    "So far we have taken a look at two big and important DataFrames 'Product' & 'Sales'. \n",
    "\n",
    "Now we'll merge these two dataframes so that we can begin to create our analysis. This will include inspecting features with EDA and creating some new features as well to further our analysis. "
   ]
  },
  {
   "cell_type": "code",
   "execution_count": 47,
   "id": "77edd4f9",
   "metadata": {},
   "outputs": [
    {
     "data": {
      "text/html": [
       "<div>\n",
       "<style scoped>\n",
       "    .dataframe tbody tr th:only-of-type {\n",
       "        vertical-align: middle;\n",
       "    }\n",
       "\n",
       "    .dataframe tbody tr th {\n",
       "        vertical-align: top;\n",
       "    }\n",
       "\n",
       "    .dataframe thead th {\n",
       "        text-align: right;\n",
       "    }\n",
       "</style>\n",
       "<table border=\"1\" class=\"dataframe\">\n",
       "  <thead>\n",
       "    <tr style=\"text-align: right;\">\n",
       "      <th></th>\n",
       "      <th>order_number</th>\n",
       "      <th>line_item</th>\n",
       "      <th>order_date</th>\n",
       "      <th>customer_key</th>\n",
       "      <th>store_key</th>\n",
       "      <th>product_key</th>\n",
       "      <th>quantity</th>\n",
       "      <th>currency_code</th>\n",
       "      <th>product_name</th>\n",
       "      <th>brand</th>\n",
       "      <th>color</th>\n",
       "      <th>unit_cost_usd</th>\n",
       "      <th>unit_price_usd</th>\n",
       "      <th>subcategory_key</th>\n",
       "      <th>subcategory</th>\n",
       "      <th>category_key</th>\n",
       "      <th>category</th>\n",
       "    </tr>\n",
       "  </thead>\n",
       "  <tbody>\n",
       "    <tr>\n",
       "      <th>0</th>\n",
       "      <td>366000</td>\n",
       "      <td>1</td>\n",
       "      <td>1/1/2016</td>\n",
       "      <td>265598</td>\n",
       "      <td>10</td>\n",
       "      <td>1304</td>\n",
       "      <td>1</td>\n",
       "      <td>CAD</td>\n",
       "      <td>Contoso Lens Adapter M450 White</td>\n",
       "      <td>Contoso</td>\n",
       "      <td>White</td>\n",
       "      <td>31.27</td>\n",
       "      <td>68.0</td>\n",
       "      <td>406</td>\n",
       "      <td>Cameras &amp; Camcorders Accessories</td>\n",
       "      <td>4</td>\n",
       "      <td>Cameras and camcorders</td>\n",
       "    </tr>\n",
       "    <tr>\n",
       "      <th>1</th>\n",
       "      <td>378002</td>\n",
       "      <td>2</td>\n",
       "      <td>1/13/2016</td>\n",
       "      <td>1599716</td>\n",
       "      <td>45</td>\n",
       "      <td>1304</td>\n",
       "      <td>1</td>\n",
       "      <td>USD</td>\n",
       "      <td>Contoso Lens Adapter M450 White</td>\n",
       "      <td>Contoso</td>\n",
       "      <td>White</td>\n",
       "      <td>31.27</td>\n",
       "      <td>68.0</td>\n",
       "      <td>406</td>\n",
       "      <td>Cameras &amp; Camcorders Accessories</td>\n",
       "      <td>4</td>\n",
       "      <td>Cameras and camcorders</td>\n",
       "    </tr>\n",
       "    <tr>\n",
       "      <th>2</th>\n",
       "      <td>868008</td>\n",
       "      <td>2</td>\n",
       "      <td>5/17/2017</td>\n",
       "      <td>1540067</td>\n",
       "      <td>51</td>\n",
       "      <td>1304</td>\n",
       "      <td>1</td>\n",
       "      <td>USD</td>\n",
       "      <td>Contoso Lens Adapter M450 White</td>\n",
       "      <td>Contoso</td>\n",
       "      <td>White</td>\n",
       "      <td>31.27</td>\n",
       "      <td>68.0</td>\n",
       "      <td>406</td>\n",
       "      <td>Cameras &amp; Camcorders Accessories</td>\n",
       "      <td>4</td>\n",
       "      <td>Cameras and camcorders</td>\n",
       "    </tr>\n",
       "    <tr>\n",
       "      <th>3</th>\n",
       "      <td>1078002</td>\n",
       "      <td>1</td>\n",
       "      <td>12/13/2017</td>\n",
       "      <td>631631</td>\n",
       "      <td>18</td>\n",
       "      <td>1304</td>\n",
       "      <td>1</td>\n",
       "      <td>EUR</td>\n",
       "      <td>Contoso Lens Adapter M450 White</td>\n",
       "      <td>Contoso</td>\n",
       "      <td>White</td>\n",
       "      <td>31.27</td>\n",
       "      <td>68.0</td>\n",
       "      <td>406</td>\n",
       "      <td>Cameras &amp; Camcorders Accessories</td>\n",
       "      <td>4</td>\n",
       "      <td>Cameras and camcorders</td>\n",
       "    </tr>\n",
       "    <tr>\n",
       "      <th>4</th>\n",
       "      <td>1371000</td>\n",
       "      <td>1</td>\n",
       "      <td>10/2/2018</td>\n",
       "      <td>1257599</td>\n",
       "      <td>48</td>\n",
       "      <td>1304</td>\n",
       "      <td>8</td>\n",
       "      <td>USD</td>\n",
       "      <td>Contoso Lens Adapter M450 White</td>\n",
       "      <td>Contoso</td>\n",
       "      <td>White</td>\n",
       "      <td>31.27</td>\n",
       "      <td>68.0</td>\n",
       "      <td>406</td>\n",
       "      <td>Cameras &amp; Camcorders Accessories</td>\n",
       "      <td>4</td>\n",
       "      <td>Cameras and camcorders</td>\n",
       "    </tr>\n",
       "  </tbody>\n",
       "</table>\n",
       "</div>"
      ],
      "text/plain": [
       "   order_number  line_item  order_date  customer_key  store_key  product_key  \\\n",
       "0        366000          1    1/1/2016        265598         10         1304   \n",
       "1        378002          2   1/13/2016       1599716         45         1304   \n",
       "2        868008          2   5/17/2017       1540067         51         1304   \n",
       "3       1078002          1  12/13/2017        631631         18         1304   \n",
       "4       1371000          1   10/2/2018       1257599         48         1304   \n",
       "\n",
       "   quantity currency_code                     product_name    brand  color  \\\n",
       "0         1           CAD  Contoso Lens Adapter M450 White  Contoso  White   \n",
       "1         1           USD  Contoso Lens Adapter M450 White  Contoso  White   \n",
       "2         1           USD  Contoso Lens Adapter M450 White  Contoso  White   \n",
       "3         1           EUR  Contoso Lens Adapter M450 White  Contoso  White   \n",
       "4         8           USD  Contoso Lens Adapter M450 White  Contoso  White   \n",
       "\n",
       "   unit_cost_usd  unit_price_usd  subcategory_key  \\\n",
       "0          31.27            68.0              406   \n",
       "1          31.27            68.0              406   \n",
       "2          31.27            68.0              406   \n",
       "3          31.27            68.0              406   \n",
       "4          31.27            68.0              406   \n",
       "\n",
       "                        subcategory  category_key                category  \n",
       "0  Cameras & Camcorders Accessories             4  Cameras and camcorders  \n",
       "1  Cameras & Camcorders Accessories             4  Cameras and camcorders  \n",
       "2  Cameras & Camcorders Accessories             4  Cameras and camcorders  \n",
       "3  Cameras & Camcorders Accessories             4  Cameras and camcorders  \n",
       "4  Cameras & Camcorders Accessories             4  Cameras and camcorders  "
      ]
     },
     "execution_count": 47,
     "metadata": {},
     "output_type": "execute_result"
    }
   ],
   "source": [
    "merge_df = pd.merge(sales_df, product_df, on='product_key', how='inner')\n",
    "\n",
    "merge_df.head()"
   ]
  },
  {
   "cell_type": "code",
   "execution_count": 48,
   "id": "8219e4cf",
   "metadata": {},
   "outputs": [
    {
     "data": {
      "text/html": [
       "<div>\n",
       "<style scoped>\n",
       "    .dataframe tbody tr th:only-of-type {\n",
       "        vertical-align: middle;\n",
       "    }\n",
       "\n",
       "    .dataframe tbody tr th {\n",
       "        vertical-align: top;\n",
       "    }\n",
       "\n",
       "    .dataframe thead th {\n",
       "        text-align: right;\n",
       "    }\n",
       "</style>\n",
       "<table border=\"1\" class=\"dataframe\">\n",
       "  <thead>\n",
       "    <tr style=\"text-align: right;\">\n",
       "      <th></th>\n",
       "      <th>order_number</th>\n",
       "      <th>line_item</th>\n",
       "      <th>order_date</th>\n",
       "      <th>customer_key</th>\n",
       "      <th>store_key</th>\n",
       "      <th>product_key</th>\n",
       "      <th>quantity</th>\n",
       "      <th>currency_code</th>\n",
       "      <th>product_name</th>\n",
       "      <th>brand</th>\n",
       "      <th>color</th>\n",
       "      <th>unit_cost_usd</th>\n",
       "      <th>unit_price_usd</th>\n",
       "      <th>subcategory_key</th>\n",
       "      <th>subcategory</th>\n",
       "      <th>category_key</th>\n",
       "      <th>category</th>\n",
       "    </tr>\n",
       "  </thead>\n",
       "  <tbody>\n",
       "    <tr>\n",
       "      <th>0</th>\n",
       "      <td>366000</td>\n",
       "      <td>1</td>\n",
       "      <td>1/1/2016</td>\n",
       "      <td>265598</td>\n",
       "      <td>10</td>\n",
       "      <td>1304</td>\n",
       "      <td>1</td>\n",
       "      <td>CAD</td>\n",
       "      <td>Contoso Lens Adapter M450 White</td>\n",
       "      <td>Contoso</td>\n",
       "      <td>White</td>\n",
       "      <td>31.27</td>\n",
       "      <td>68.00</td>\n",
       "      <td>406</td>\n",
       "      <td>Cameras &amp; Camcorders Accessories</td>\n",
       "      <td>4</td>\n",
       "      <td>Cameras and camcorders</td>\n",
       "    </tr>\n",
       "    <tr>\n",
       "      <th>15175</th>\n",
       "      <td>1749017</td>\n",
       "      <td>1</td>\n",
       "      <td>10/15/2019</td>\n",
       "      <td>265598</td>\n",
       "      <td>0</td>\n",
       "      <td>1619</td>\n",
       "      <td>1</td>\n",
       "      <td>CAD</td>\n",
       "      <td>Contoso DVD Player M130 Grey</td>\n",
       "      <td>Contoso</td>\n",
       "      <td>Grey</td>\n",
       "      <td>27.59</td>\n",
       "      <td>59.99</td>\n",
       "      <td>602</td>\n",
       "      <td>Movie DVD</td>\n",
       "      <td>6</td>\n",
       "      <td>Music, Movies and Audio Books</td>\n",
       "    </tr>\n",
       "    <tr>\n",
       "      <th>23561</th>\n",
       "      <td>891000</td>\n",
       "      <td>2</td>\n",
       "      <td>6/9/2017</td>\n",
       "      <td>265598</td>\n",
       "      <td>9</td>\n",
       "      <td>174</td>\n",
       "      <td>1</td>\n",
       "      <td>CAD</td>\n",
       "      <td>SV 22xDVD M600 Black</td>\n",
       "      <td>Southridge Video</td>\n",
       "      <td>Black</td>\n",
       "      <td>43.04</td>\n",
       "      <td>129.90</td>\n",
       "      <td>202</td>\n",
       "      <td>VCD &amp; DVD</td>\n",
       "      <td>2</td>\n",
       "      <td>TV and Video</td>\n",
       "    </tr>\n",
       "    <tr>\n",
       "      <th>29251</th>\n",
       "      <td>891000</td>\n",
       "      <td>1</td>\n",
       "      <td>6/9/2017</td>\n",
       "      <td>265598</td>\n",
       "      <td>9</td>\n",
       "      <td>385</td>\n",
       "      <td>2</td>\n",
       "      <td>CAD</td>\n",
       "      <td>Adventure Works Laptop8.9 E0890 Red</td>\n",
       "      <td>Adventure Works</td>\n",
       "      <td>Red</td>\n",
       "      <td>166.20</td>\n",
       "      <td>326.00</td>\n",
       "      <td>301</td>\n",
       "      <td>Laptops</td>\n",
       "      <td>3</td>\n",
       "      <td>Computers</td>\n",
       "    </tr>\n",
       "    <tr>\n",
       "      <th>32924</th>\n",
       "      <td>891000</td>\n",
       "      <td>4</td>\n",
       "      <td>6/9/2017</td>\n",
       "      <td>265598</td>\n",
       "      <td>9</td>\n",
       "      <td>87</td>\n",
       "      <td>1</td>\n",
       "      <td>CAD</td>\n",
       "      <td>NT Wireless Bluetooth Stereo Headphones M402 P...</td>\n",
       "      <td>Northwind Traders</td>\n",
       "      <td>Purple</td>\n",
       "      <td>45.98</td>\n",
       "      <td>99.99</td>\n",
       "      <td>106</td>\n",
       "      <td>Bluetooth Headphones</td>\n",
       "      <td>1</td>\n",
       "      <td>Audio</td>\n",
       "    </tr>\n",
       "    <tr>\n",
       "      <th>41012</th>\n",
       "      <td>1749017</td>\n",
       "      <td>3</td>\n",
       "      <td>10/15/2019</td>\n",
       "      <td>265598</td>\n",
       "      <td>0</td>\n",
       "      <td>52</td>\n",
       "      <td>1</td>\n",
       "      <td>CAD</td>\n",
       "      <td>WWI 2GB Pulse Smart pen M100 Silver</td>\n",
       "      <td>Wide World Importers</td>\n",
       "      <td>Silver</td>\n",
       "      <td>91.95</td>\n",
       "      <td>199.95</td>\n",
       "      <td>104</td>\n",
       "      <td>Recording Pen</td>\n",
       "      <td>1</td>\n",
       "      <td>Audio</td>\n",
       "    </tr>\n",
       "    <tr>\n",
       "      <th>50666</th>\n",
       "      <td>1749017</td>\n",
       "      <td>2</td>\n",
       "      <td>10/15/2019</td>\n",
       "      <td>265598</td>\n",
       "      <td>0</td>\n",
       "      <td>1764</td>\n",
       "      <td>2</td>\n",
       "      <td>CAD</td>\n",
       "      <td>MGS Age of Empires II: The Age of Kings E126</td>\n",
       "      <td>Tailspin Toys</td>\n",
       "      <td>Blue</td>\n",
       "      <td>23.86</td>\n",
       "      <td>46.80</td>\n",
       "      <td>702</td>\n",
       "      <td>Download Games</td>\n",
       "      <td>7</td>\n",
       "      <td>Games and Toys</td>\n",
       "    </tr>\n",
       "    <tr>\n",
       "      <th>53702</th>\n",
       "      <td>891000</td>\n",
       "      <td>3</td>\n",
       "      <td>6/9/2017</td>\n",
       "      <td>265598</td>\n",
       "      <td>9</td>\n",
       "      <td>685</td>\n",
       "      <td>1</td>\n",
       "      <td>CAD</td>\n",
       "      <td>Proseware Desk Jet All-in-One Printer, Scanner...</td>\n",
       "      <td>Proseware</td>\n",
       "      <td>Grey</td>\n",
       "      <td>72.66</td>\n",
       "      <td>158.00</td>\n",
       "      <td>306</td>\n",
       "      <td>Printers, Scanners &amp; Fax</td>\n",
       "      <td>3</td>\n",
       "      <td>Computers</td>\n",
       "    </tr>\n",
       "  </tbody>\n",
       "</table>\n",
       "</div>"
      ],
      "text/plain": [
       "       order_number  line_item  order_date  customer_key  store_key  \\\n",
       "0            366000          1    1/1/2016        265598         10   \n",
       "15175       1749017          1  10/15/2019        265598          0   \n",
       "23561        891000          2    6/9/2017        265598          9   \n",
       "29251        891000          1    6/9/2017        265598          9   \n",
       "32924        891000          4    6/9/2017        265598          9   \n",
       "41012       1749017          3  10/15/2019        265598          0   \n",
       "50666       1749017          2  10/15/2019        265598          0   \n",
       "53702        891000          3    6/9/2017        265598          9   \n",
       "\n",
       "       product_key  quantity currency_code  \\\n",
       "0             1304         1           CAD   \n",
       "15175         1619         1           CAD   \n",
       "23561          174         1           CAD   \n",
       "29251          385         2           CAD   \n",
       "32924           87         1           CAD   \n",
       "41012           52         1           CAD   \n",
       "50666         1764         2           CAD   \n",
       "53702          685         1           CAD   \n",
       "\n",
       "                                            product_name  \\\n",
       "0                        Contoso Lens Adapter M450 White   \n",
       "15175                       Contoso DVD Player M130 Grey   \n",
       "23561                               SV 22xDVD M600 Black   \n",
       "29251                Adventure Works Laptop8.9 E0890 Red   \n",
       "32924  NT Wireless Bluetooth Stereo Headphones M402 P...   \n",
       "41012                WWI 2GB Pulse Smart pen M100 Silver   \n",
       "50666       MGS Age of Empires II: The Age of Kings E126   \n",
       "53702  Proseware Desk Jet All-in-One Printer, Scanner...   \n",
       "\n",
       "                      brand   color  unit_cost_usd  unit_price_usd  \\\n",
       "0                   Contoso   White          31.27           68.00   \n",
       "15175               Contoso    Grey          27.59           59.99   \n",
       "23561      Southridge Video   Black          43.04          129.90   \n",
       "29251       Adventure Works     Red         166.20          326.00   \n",
       "32924     Northwind Traders  Purple          45.98           99.99   \n",
       "41012  Wide World Importers  Silver          91.95          199.95   \n",
       "50666         Tailspin Toys    Blue          23.86           46.80   \n",
       "53702             Proseware    Grey          72.66          158.00   \n",
       "\n",
       "       subcategory_key                       subcategory  category_key  \\\n",
       "0                  406  Cameras & Camcorders Accessories             4   \n",
       "15175              602                         Movie DVD             6   \n",
       "23561              202                         VCD & DVD             2   \n",
       "29251              301                           Laptops             3   \n",
       "32924              106              Bluetooth Headphones             1   \n",
       "41012              104                     Recording Pen             1   \n",
       "50666              702                    Download Games             7   \n",
       "53702              306          Printers, Scanners & Fax             3   \n",
       "\n",
       "                            category  \n",
       "0             Cameras and camcorders  \n",
       "15175  Music, Movies and Audio Books  \n",
       "23561                   TV and Video  \n",
       "29251                      Computers  \n",
       "32924                          Audio  \n",
       "41012                          Audio  \n",
       "50666                 Games and Toys  \n",
       "53702                      Computers  "
      ]
     },
     "execution_count": 48,
     "metadata": {},
     "output_type": "execute_result"
    }
   ],
   "source": [
    "merge_df.loc[merge_df.customer_key == 265598.0]"
   ]
  },
  {
   "cell_type": "markdown",
   "id": "1fbb5553",
   "metadata": {},
   "source": [
    "Here we'll make a note that the 'order_number' is not each unique purchase of a product. As we see, this particular customer had bought 4 different products on the same purchase, and they are seperated by 'line_item'. \n",
    "\n",
    "We may need to toggle with this later on in the analysis, as one order_number could also contain more than 1 quantity of that product. "
   ]
  },
  {
   "cell_type": "code",
   "execution_count": 50,
   "id": "3417e0f1",
   "metadata": {},
   "outputs": [
    {
     "name": "stdout",
     "output_type": "stream",
     "text": [
      "(2517, 10)\n",
      "(62884, 8)\n",
      "(62884, 17)\n"
     ]
    }
   ],
   "source": [
    "print(product_df.shape)\n",
    "print(sales_df.shape)\n",
    "print(merge_df.shape)"
   ]
  },
  {
   "cell_type": "code",
   "execution_count": 51,
   "id": "b1c75679",
   "metadata": {},
   "outputs": [
    {
     "name": "stdout",
     "output_type": "stream",
     "text": [
      "<class 'pandas.core.frame.DataFrame'>\n",
      "Int64Index: 62884 entries, 0 to 62883\n",
      "Data columns (total 17 columns):\n",
      " #   Column           Non-Null Count  Dtype  \n",
      "---  ------           --------------  -----  \n",
      " 0   order_number     62884 non-null  int64  \n",
      " 1   line_item        62884 non-null  int64  \n",
      " 2   order_date       62884 non-null  object \n",
      " 3   customer_key     62884 non-null  int64  \n",
      " 4   store_key        62884 non-null  int64  \n",
      " 5   product_key      62884 non-null  int64  \n",
      " 6   quantity         62884 non-null  int64  \n",
      " 7   currency_code    62884 non-null  object \n",
      " 8   product_name     62884 non-null  object \n",
      " 9   brand            62884 non-null  object \n",
      " 10  color            62884 non-null  object \n",
      " 11  unit_cost_usd    62884 non-null  float64\n",
      " 12  unit_price_usd   62884 non-null  float64\n",
      " 13  subcategory_key  62884 non-null  int64  \n",
      " 14  subcategory      62884 non-null  object \n",
      " 15  category_key     62884 non-null  int64  \n",
      " 16  category         62884 non-null  object \n",
      "dtypes: float64(2), int64(8), object(7)\n",
      "memory usage: 8.6+ MB\n"
     ]
    }
   ],
   "source": [
    "merge_df.info()"
   ]
  },
  {
   "cell_type": "markdown",
   "id": "9af028dc",
   "metadata": {},
   "source": [
    "The inner join ensured that we got records that have maching values in both tables. "
   ]
  },
  {
   "cell_type": "markdown",
   "id": "1fc8d8fa",
   "metadata": {},
   "source": [
    "# Stores DataFrame"
   ]
  },
  {
   "cell_type": "code",
   "execution_count": 52,
   "id": "7f0cd8ea",
   "metadata": {},
   "outputs": [],
   "source": [
    "file_path = '~/Desktop/Stores.csv'\n",
    "\n",
    "stores_df = pd.read_csv(file_path)"
   ]
  },
  {
   "cell_type": "markdown",
   "id": "16468a5c",
   "metadata": {},
   "source": [
    "We'll also import and merge the stores dataframe so that we can include information on country, state, size of the store in square metres and how long the it has been opened to get a further sense of how the retailer is performing across different dimensions.\n",
    "\n",
    "Let's quickly explore this DataFrame as well before we merge it into our final working DF:\n",
    "\n",
    "- Shape of the dataset\n",
    "- Missing Values\n",
    "- Summary Statistics\n"
   ]
  },
  {
   "cell_type": "code",
   "execution_count": 53,
   "id": "e5860ff3",
   "metadata": {},
   "outputs": [
    {
     "data": {
      "text/html": [
       "<div>\n",
       "<style scoped>\n",
       "    .dataframe tbody tr th:only-of-type {\n",
       "        vertical-align: middle;\n",
       "    }\n",
       "\n",
       "    .dataframe tbody tr th {\n",
       "        vertical-align: top;\n",
       "    }\n",
       "\n",
       "    .dataframe thead th {\n",
       "        text-align: right;\n",
       "    }\n",
       "</style>\n",
       "<table border=\"1\" class=\"dataframe\">\n",
       "  <thead>\n",
       "    <tr style=\"text-align: right;\">\n",
       "      <th></th>\n",
       "      <th>store_key</th>\n",
       "      <th>country</th>\n",
       "      <th>state</th>\n",
       "      <th>square_meters</th>\n",
       "      <th>open_date</th>\n",
       "    </tr>\n",
       "  </thead>\n",
       "  <tbody>\n",
       "    <tr>\n",
       "      <th>0</th>\n",
       "      <td>1</td>\n",
       "      <td>Australia</td>\n",
       "      <td>Australian Capital Territory</td>\n",
       "      <td>595.0</td>\n",
       "      <td>1/1/2008</td>\n",
       "    </tr>\n",
       "    <tr>\n",
       "      <th>1</th>\n",
       "      <td>2</td>\n",
       "      <td>Australia</td>\n",
       "      <td>Northern Territory</td>\n",
       "      <td>665.0</td>\n",
       "      <td>1/12/2008</td>\n",
       "    </tr>\n",
       "    <tr>\n",
       "      <th>2</th>\n",
       "      <td>3</td>\n",
       "      <td>Australia</td>\n",
       "      <td>South Australia</td>\n",
       "      <td>2000.0</td>\n",
       "      <td>1/7/2012</td>\n",
       "    </tr>\n",
       "    <tr>\n",
       "      <th>3</th>\n",
       "      <td>4</td>\n",
       "      <td>Australia</td>\n",
       "      <td>Tasmania</td>\n",
       "      <td>2000.0</td>\n",
       "      <td>1/1/2010</td>\n",
       "    </tr>\n",
       "    <tr>\n",
       "      <th>4</th>\n",
       "      <td>5</td>\n",
       "      <td>Australia</td>\n",
       "      <td>Victoria</td>\n",
       "      <td>2000.0</td>\n",
       "      <td>12/9/2015</td>\n",
       "    </tr>\n",
       "  </tbody>\n",
       "</table>\n",
       "</div>"
      ],
      "text/plain": [
       "   store_key    country                         state  square_meters  \\\n",
       "0          1  Australia  Australian Capital Territory          595.0   \n",
       "1          2  Australia            Northern Territory          665.0   \n",
       "2          3  Australia               South Australia         2000.0   \n",
       "3          4  Australia                      Tasmania         2000.0   \n",
       "4          5  Australia                      Victoria         2000.0   \n",
       "\n",
       "   open_date  \n",
       "0   1/1/2008  \n",
       "1  1/12/2008  \n",
       "2   1/7/2012  \n",
       "3   1/1/2010  \n",
       "4  12/9/2015  "
      ]
     },
     "execution_count": 53,
     "metadata": {},
     "output_type": "execute_result"
    }
   ],
   "source": [
    "stores_df.head()"
   ]
  },
  {
   "cell_type": "code",
   "execution_count": 54,
   "id": "35ba8186",
   "metadata": {},
   "outputs": [
    {
     "data": {
      "text/html": [
       "<div>\n",
       "<style scoped>\n",
       "    .dataframe tbody tr th:only-of-type {\n",
       "        vertical-align: middle;\n",
       "    }\n",
       "\n",
       "    .dataframe tbody tr th {\n",
       "        vertical-align: top;\n",
       "    }\n",
       "\n",
       "    .dataframe thead th {\n",
       "        text-align: right;\n",
       "    }\n",
       "</style>\n",
       "<table border=\"1\" class=\"dataframe\">\n",
       "  <thead>\n",
       "    <tr style=\"text-align: right;\">\n",
       "      <th></th>\n",
       "      <th>store_key</th>\n",
       "      <th>country</th>\n",
       "      <th>state</th>\n",
       "      <th>square_meters</th>\n",
       "      <th>open_date</th>\n",
       "    </tr>\n",
       "  </thead>\n",
       "  <tbody>\n",
       "    <tr>\n",
       "      <th>0</th>\n",
       "      <td>1</td>\n",
       "      <td>Australia</td>\n",
       "      <td>Australian Capital Territory</td>\n",
       "      <td>595.0</td>\n",
       "      <td>1/1/2008</td>\n",
       "    </tr>\n",
       "    <tr>\n",
       "      <th>1</th>\n",
       "      <td>2</td>\n",
       "      <td>Australia</td>\n",
       "      <td>Northern Territory</td>\n",
       "      <td>665.0</td>\n",
       "      <td>1/12/2008</td>\n",
       "    </tr>\n",
       "    <tr>\n",
       "      <th>2</th>\n",
       "      <td>3</td>\n",
       "      <td>Australia</td>\n",
       "      <td>South Australia</td>\n",
       "      <td>2000.0</td>\n",
       "      <td>1/7/2012</td>\n",
       "    </tr>\n",
       "    <tr>\n",
       "      <th>3</th>\n",
       "      <td>4</td>\n",
       "      <td>Australia</td>\n",
       "      <td>Tasmania</td>\n",
       "      <td>2000.0</td>\n",
       "      <td>1/1/2010</td>\n",
       "    </tr>\n",
       "    <tr>\n",
       "      <th>4</th>\n",
       "      <td>5</td>\n",
       "      <td>Australia</td>\n",
       "      <td>Victoria</td>\n",
       "      <td>2000.0</td>\n",
       "      <td>12/9/2015</td>\n",
       "    </tr>\n",
       "  </tbody>\n",
       "</table>\n",
       "</div>"
      ],
      "text/plain": [
       "   store_key    country                         state  square_meters  \\\n",
       "0          1  Australia  Australian Capital Territory          595.0   \n",
       "1          2  Australia            Northern Territory          665.0   \n",
       "2          3  Australia               South Australia         2000.0   \n",
       "3          4  Australia                      Tasmania         2000.0   \n",
       "4          5  Australia                      Victoria         2000.0   \n",
       "\n",
       "   open_date  \n",
       "0   1/1/2008  \n",
       "1  1/12/2008  \n",
       "2   1/7/2012  \n",
       "3   1/1/2010  \n",
       "4  12/9/2015  "
      ]
     },
     "execution_count": 54,
     "metadata": {},
     "output_type": "execute_result"
    }
   ],
   "source": [
    "rename_stores_columns = ['store_key', 'country', 'state', 'square_meters', 'open_date']\n",
    "\n",
    "stores_df.columns = rename_stores_columns\n",
    "stores_df.head()\n"
   ]
  },
  {
   "cell_type": "code",
   "execution_count": 55,
   "id": "513e385d",
   "metadata": {},
   "outputs": [
    {
     "data": {
      "text/plain": [
       "(67, 5)"
      ]
     },
     "execution_count": 55,
     "metadata": {},
     "output_type": "execute_result"
    }
   ],
   "source": [
    "stores_df.shape"
   ]
  },
  {
   "cell_type": "code",
   "execution_count": 56,
   "id": "430cc4cf",
   "metadata": {},
   "outputs": [
    {
     "data": {
      "text/plain": [
       "store_key        0\n",
       "country          0\n",
       "state            0\n",
       "square_meters    1\n",
       "open_date        0\n",
       "dtype: int64"
      ]
     },
     "execution_count": 56,
     "metadata": {},
     "output_type": "execute_result"
    }
   ],
   "source": [
    "stores_df.isna().sum()"
   ]
  },
  {
   "cell_type": "code",
   "execution_count": 57,
   "id": "466d6b4c",
   "metadata": {},
   "outputs": [
    {
     "data": {
      "text/html": [
       "<div>\n",
       "<style scoped>\n",
       "    .dataframe tbody tr th:only-of-type {\n",
       "        vertical-align: middle;\n",
       "    }\n",
       "\n",
       "    .dataframe tbody tr th {\n",
       "        vertical-align: top;\n",
       "    }\n",
       "\n",
       "    .dataframe thead th {\n",
       "        text-align: right;\n",
       "    }\n",
       "</style>\n",
       "<table border=\"1\" class=\"dataframe\">\n",
       "  <thead>\n",
       "    <tr style=\"text-align: right;\">\n",
       "      <th></th>\n",
       "      <th>store_key</th>\n",
       "      <th>country</th>\n",
       "      <th>state</th>\n",
       "      <th>square_meters</th>\n",
       "      <th>open_date</th>\n",
       "    </tr>\n",
       "  </thead>\n",
       "  <tbody>\n",
       "    <tr>\n",
       "      <th>66</th>\n",
       "      <td>0</td>\n",
       "      <td>Online</td>\n",
       "      <td>Online</td>\n",
       "      <td>NaN</td>\n",
       "      <td>1/1/2010</td>\n",
       "    </tr>\n",
       "  </tbody>\n",
       "</table>\n",
       "</div>"
      ],
      "text/plain": [
       "    store_key country   state  square_meters open_date\n",
       "66          0  Online  Online            NaN  1/1/2010"
      ]
     },
     "execution_count": 57,
     "metadata": {},
     "output_type": "execute_result"
    }
   ],
   "source": [
    "missing_rows = stores_df.loc[stores_df.isna().any(axis=1)]\n",
    "missing_rows"
   ]
  },
  {
   "cell_type": "markdown",
   "id": "c3218044",
   "metadata": {},
   "source": [
    "It's a good thing that we investigated the missing value. In this case, square_meters are NaN because this is our online distribution channel and not a real store. We will leave this value as NaN for now, as later this column will be encoded in order for our models to work."
   ]
  },
  {
   "cell_type": "code",
   "execution_count": 58,
   "id": "df4a2112",
   "metadata": {},
   "outputs": [
    {
     "data": {
      "text/plain": [
       "array(['Australia', 'Canada', 'France', 'Germany', 'Italy', 'Netherlands',\n",
       "       'United Kingdom', 'United States', 'Online'], dtype=object)"
      ]
     },
     "execution_count": 58,
     "metadata": {},
     "output_type": "execute_result"
    }
   ],
   "source": [
    "stores_df.country.unique()"
   ]
  },
  {
   "cell_type": "code",
   "execution_count": 59,
   "id": "e71cf9ee",
   "metadata": {},
   "outputs": [
    {
     "data": {
      "text/plain": [
       "array(['Australian Capital Territory', 'Northern Territory',\n",
       "       'South Australia', 'Tasmania', 'Victoria', 'Western Australia',\n",
       "       'New Brunswick', 'Newfoundland and Labrador',\n",
       "       'Northwest Territories', 'Nunavut', 'Yukon', 'Basse-Normandie',\n",
       "       'Corse', 'Franche-Comté', 'La Réunion', 'Limousin', 'Martinique',\n",
       "       'Mayotte', 'Berlin', 'Brandenburg', 'Freie Hansestadt Bremen',\n",
       "       'Freistaat Thüringen', 'Hamburg', 'Hessen',\n",
       "       'Mecklenburg-Vorpommern', 'Saarland', 'Sachsen-Anhalt',\n",
       "       'Caltanissetta', 'Enna', 'Pesaro', 'Drenthe', 'Flevoland',\n",
       "       'Friesland', 'Groningen', 'Zeeland', 'Armagh', 'Ayrshire',\n",
       "       'Belfast', 'Blaenau Gwent', 'Dungannon and South Tyrone',\n",
       "       'Fermanagh', 'North Down', 'Alaska', 'Arkansas', 'Connecticut',\n",
       "       'Delaware', 'Hawaii', 'Idaho', 'Iowa', 'Kansas', 'Maine',\n",
       "       'Mississippi', 'Montana', 'Nebraska', 'Nevada', 'New Hampshire',\n",
       "       'New Mexico', 'North Dakota', 'Oregon', 'Rhode Island',\n",
       "       'South Carolina', 'South Dakota', 'Utah', 'Washington DC',\n",
       "       'West Virginia', 'Wyoming', 'Online'], dtype=object)"
      ]
     },
     "execution_count": 59,
     "metadata": {},
     "output_type": "execute_result"
    }
   ],
   "source": [
    "stores_df.state.unique()"
   ]
  },
  {
   "cell_type": "code",
   "execution_count": 60,
   "id": "03f43eb6",
   "metadata": {},
   "outputs": [
    {
     "data": {
      "text/plain": [
       "67"
      ]
     },
     "execution_count": 60,
     "metadata": {},
     "output_type": "execute_result"
    }
   ],
   "source": [
    "stores_df.state.nunique()"
   ]
  },
  {
   "cell_type": "code",
   "execution_count": 61,
   "id": "1465cd79",
   "metadata": {},
   "outputs": [
    {
     "data": {
      "text/html": [
       "<div>\n",
       "<style scoped>\n",
       "    .dataframe tbody tr th:only-of-type {\n",
       "        vertical-align: middle;\n",
       "    }\n",
       "\n",
       "    .dataframe tbody tr th {\n",
       "        vertical-align: top;\n",
       "    }\n",
       "\n",
       "    .dataframe thead th {\n",
       "        text-align: right;\n",
       "    }\n",
       "</style>\n",
       "<table border=\"1\" class=\"dataframe\">\n",
       "  <thead>\n",
       "    <tr style=\"text-align: right;\">\n",
       "      <th></th>\n",
       "      <th>store_key</th>\n",
       "      <th>square_meters</th>\n",
       "    </tr>\n",
       "  </thead>\n",
       "  <tbody>\n",
       "    <tr>\n",
       "      <th>count</th>\n",
       "      <td>67.000000</td>\n",
       "      <td>66.000000</td>\n",
       "    </tr>\n",
       "    <tr>\n",
       "      <th>mean</th>\n",
       "      <td>33.000000</td>\n",
       "      <td>1402.196970</td>\n",
       "    </tr>\n",
       "    <tr>\n",
       "      <th>std</th>\n",
       "      <td>19.485037</td>\n",
       "      <td>576.404058</td>\n",
       "    </tr>\n",
       "    <tr>\n",
       "      <th>min</th>\n",
       "      <td>0.000000</td>\n",
       "      <td>245.000000</td>\n",
       "    </tr>\n",
       "    <tr>\n",
       "      <th>25%</th>\n",
       "      <td>16.500000</td>\n",
       "      <td>1108.750000</td>\n",
       "    </tr>\n",
       "    <tr>\n",
       "      <th>50%</th>\n",
       "      <td>33.000000</td>\n",
       "      <td>1347.500000</td>\n",
       "    </tr>\n",
       "    <tr>\n",
       "      <th>75%</th>\n",
       "      <td>49.500000</td>\n",
       "      <td>2000.000000</td>\n",
       "    </tr>\n",
       "    <tr>\n",
       "      <th>max</th>\n",
       "      <td>66.000000</td>\n",
       "      <td>2105.000000</td>\n",
       "    </tr>\n",
       "  </tbody>\n",
       "</table>\n",
       "</div>"
      ],
      "text/plain": [
       "       store_key  square_meters\n",
       "count  67.000000      66.000000\n",
       "mean   33.000000    1402.196970\n",
       "std    19.485037     576.404058\n",
       "min     0.000000     245.000000\n",
       "25%    16.500000    1108.750000\n",
       "50%    33.000000    1347.500000\n",
       "75%    49.500000    2000.000000\n",
       "max    66.000000    2105.000000"
      ]
     },
     "execution_count": 61,
     "metadata": {},
     "output_type": "execute_result"
    }
   ],
   "source": [
    "stores_df.describe()"
   ]
  },
  {
   "cell_type": "markdown",
   "id": "28ca776a",
   "metadata": {},
   "source": [
    "# Second Merge"
   ]
  },
  {
   "cell_type": "code",
   "execution_count": 62,
   "id": "7b1d202a",
   "metadata": {},
   "outputs": [],
   "source": [
    "df = pd.merge(merge_df, stores_df, on='store_key', how='inner')"
   ]
  },
  {
   "cell_type": "code",
   "execution_count": 63,
   "id": "079794f6",
   "metadata": {},
   "outputs": [
    {
     "data": {
      "text/html": [
       "<div>\n",
       "<style scoped>\n",
       "    .dataframe tbody tr th:only-of-type {\n",
       "        vertical-align: middle;\n",
       "    }\n",
       "\n",
       "    .dataframe tbody tr th {\n",
       "        vertical-align: top;\n",
       "    }\n",
       "\n",
       "    .dataframe thead th {\n",
       "        text-align: right;\n",
       "    }\n",
       "</style>\n",
       "<table border=\"1\" class=\"dataframe\">\n",
       "  <thead>\n",
       "    <tr style=\"text-align: right;\">\n",
       "      <th></th>\n",
       "      <th>order_number</th>\n",
       "      <th>line_item</th>\n",
       "      <th>order_date</th>\n",
       "      <th>customer_key</th>\n",
       "      <th>store_key</th>\n",
       "      <th>product_key</th>\n",
       "      <th>quantity</th>\n",
       "      <th>currency_code</th>\n",
       "      <th>product_name</th>\n",
       "      <th>brand</th>\n",
       "      <th>...</th>\n",
       "      <th>unit_cost_usd</th>\n",
       "      <th>unit_price_usd</th>\n",
       "      <th>subcategory_key</th>\n",
       "      <th>subcategory</th>\n",
       "      <th>category_key</th>\n",
       "      <th>category</th>\n",
       "      <th>country</th>\n",
       "      <th>state</th>\n",
       "      <th>square_meters</th>\n",
       "      <th>open_date</th>\n",
       "    </tr>\n",
       "  </thead>\n",
       "  <tbody>\n",
       "    <tr>\n",
       "      <th>0</th>\n",
       "      <td>366000</td>\n",
       "      <td>1</td>\n",
       "      <td>1/1/2016</td>\n",
       "      <td>265598</td>\n",
       "      <td>10</td>\n",
       "      <td>1304</td>\n",
       "      <td>1</td>\n",
       "      <td>CAD</td>\n",
       "      <td>Contoso Lens Adapter M450 White</td>\n",
       "      <td>Contoso</td>\n",
       "      <td>...</td>\n",
       "      <td>31.27</td>\n",
       "      <td>68.00</td>\n",
       "      <td>406</td>\n",
       "      <td>Cameras &amp; Camcorders Accessories</td>\n",
       "      <td>4</td>\n",
       "      <td>Cameras and camcorders</td>\n",
       "      <td>Canada</td>\n",
       "      <td>Nunavut</td>\n",
       "      <td>1210.0</td>\n",
       "      <td>4/4/2015</td>\n",
       "    </tr>\n",
       "    <tr>\n",
       "      <th>1</th>\n",
       "      <td>1896020</td>\n",
       "      <td>1</td>\n",
       "      <td>3/10/2020</td>\n",
       "      <td>302645</td>\n",
       "      <td>10</td>\n",
       "      <td>373</td>\n",
       "      <td>1</td>\n",
       "      <td>CAD</td>\n",
       "      <td>Adventure Works Laptop8.9 E0890 White</td>\n",
       "      <td>Adventure Works</td>\n",
       "      <td>...</td>\n",
       "      <td>166.20</td>\n",
       "      <td>326.00</td>\n",
       "      <td>301</td>\n",
       "      <td>Laptops</td>\n",
       "      <td>3</td>\n",
       "      <td>Computers</td>\n",
       "      <td>Canada</td>\n",
       "      <td>Nunavut</td>\n",
       "      <td>1210.0</td>\n",
       "      <td>4/4/2015</td>\n",
       "    </tr>\n",
       "    <tr>\n",
       "      <th>2</th>\n",
       "      <td>1298021</td>\n",
       "      <td>1</td>\n",
       "      <td>7/21/2018</td>\n",
       "      <td>363584</td>\n",
       "      <td>10</td>\n",
       "      <td>163</td>\n",
       "      <td>8</td>\n",
       "      <td>CAD</td>\n",
       "      <td>Adventure Works 52\" LCD HDTV X790W White</td>\n",
       "      <td>Adventure Works</td>\n",
       "      <td>...</td>\n",
       "      <td>527.53</td>\n",
       "      <td>1592.20</td>\n",
       "      <td>201</td>\n",
       "      <td>Televisions</td>\n",
       "      <td>2</td>\n",
       "      <td>TV and Video</td>\n",
       "      <td>Canada</td>\n",
       "      <td>Nunavut</td>\n",
       "      <td>1210.0</td>\n",
       "      <td>4/4/2015</td>\n",
       "    </tr>\n",
       "    <tr>\n",
       "      <th>3</th>\n",
       "      <td>1506050</td>\n",
       "      <td>4</td>\n",
       "      <td>2/14/2019</td>\n",
       "      <td>391900</td>\n",
       "      <td>10</td>\n",
       "      <td>163</td>\n",
       "      <td>4</td>\n",
       "      <td>CAD</td>\n",
       "      <td>Adventure Works 52\" LCD HDTV X790W White</td>\n",
       "      <td>Adventure Works</td>\n",
       "      <td>...</td>\n",
       "      <td>527.53</td>\n",
       "      <td>1592.20</td>\n",
       "      <td>201</td>\n",
       "      <td>Televisions</td>\n",
       "      <td>2</td>\n",
       "      <td>TV and Video</td>\n",
       "      <td>Canada</td>\n",
       "      <td>Nunavut</td>\n",
       "      <td>1210.0</td>\n",
       "      <td>4/4/2015</td>\n",
       "    </tr>\n",
       "    <tr>\n",
       "      <th>4</th>\n",
       "      <td>1452075</td>\n",
       "      <td>3</td>\n",
       "      <td>12/22/2018</td>\n",
       "      <td>211746</td>\n",
       "      <td>10</td>\n",
       "      <td>421</td>\n",
       "      <td>2</td>\n",
       "      <td>CAD</td>\n",
       "      <td>Adventure Works Desktop PC3.0 MS300 Silver</td>\n",
       "      <td>Adventure Works</td>\n",
       "      <td>...</td>\n",
       "      <td>215.68</td>\n",
       "      <td>469.00</td>\n",
       "      <td>303</td>\n",
       "      <td>Desktops</td>\n",
       "      <td>3</td>\n",
       "      <td>Computers</td>\n",
       "      <td>Canada</td>\n",
       "      <td>Nunavut</td>\n",
       "      <td>1210.0</td>\n",
       "      <td>4/4/2015</td>\n",
       "    </tr>\n",
       "    <tr>\n",
       "      <th>5</th>\n",
       "      <td>1658017</td>\n",
       "      <td>4</td>\n",
       "      <td>7/16/2019</td>\n",
       "      <td>285552</td>\n",
       "      <td>10</td>\n",
       "      <td>421</td>\n",
       "      <td>1</td>\n",
       "      <td>CAD</td>\n",
       "      <td>Adventure Works Desktop PC3.0 MS300 Silver</td>\n",
       "      <td>Adventure Works</td>\n",
       "      <td>...</td>\n",
       "      <td>215.68</td>\n",
       "      <td>469.00</td>\n",
       "      <td>303</td>\n",
       "      <td>Desktops</td>\n",
       "      <td>3</td>\n",
       "      <td>Computers</td>\n",
       "      <td>Canada</td>\n",
       "      <td>Nunavut</td>\n",
       "      <td>1210.0</td>\n",
       "      <td>4/4/2015</td>\n",
       "    </tr>\n",
       "    <tr>\n",
       "      <th>6</th>\n",
       "      <td>1878036</td>\n",
       "      <td>2</td>\n",
       "      <td>2/21/2020</td>\n",
       "      <td>213985</td>\n",
       "      <td>10</td>\n",
       "      <td>421</td>\n",
       "      <td>1</td>\n",
       "      <td>CAD</td>\n",
       "      <td>Adventure Works Desktop PC3.0 MS300 Silver</td>\n",
       "      <td>Adventure Works</td>\n",
       "      <td>...</td>\n",
       "      <td>215.68</td>\n",
       "      <td>469.00</td>\n",
       "      <td>303</td>\n",
       "      <td>Desktops</td>\n",
       "      <td>3</td>\n",
       "      <td>Computers</td>\n",
       "      <td>Canada</td>\n",
       "      <td>Nunavut</td>\n",
       "      <td>1210.0</td>\n",
       "      <td>4/4/2015</td>\n",
       "    </tr>\n",
       "    <tr>\n",
       "      <th>7</th>\n",
       "      <td>675012</td>\n",
       "      <td>2</td>\n",
       "      <td>11/5/2016</td>\n",
       "      <td>205476</td>\n",
       "      <td>10</td>\n",
       "      <td>1617</td>\n",
       "      <td>2</td>\n",
       "      <td>CAD</td>\n",
       "      <td>Contoso DVD Player M110 Silver</td>\n",
       "      <td>Contoso</td>\n",
       "      <td>...</td>\n",
       "      <td>26.67</td>\n",
       "      <td>57.99</td>\n",
       "      <td>602</td>\n",
       "      <td>Movie DVD</td>\n",
       "      <td>6</td>\n",
       "      <td>Music, Movies and Audio Books</td>\n",
       "      <td>Canada</td>\n",
       "      <td>Nunavut</td>\n",
       "      <td>1210.0</td>\n",
       "      <td>4/4/2015</td>\n",
       "    </tr>\n",
       "    <tr>\n",
       "      <th>8</th>\n",
       "      <td>1001002</td>\n",
       "      <td>2</td>\n",
       "      <td>9/27/2017</td>\n",
       "      <td>351430</td>\n",
       "      <td>10</td>\n",
       "      <td>1617</td>\n",
       "      <td>6</td>\n",
       "      <td>CAD</td>\n",
       "      <td>Contoso DVD Player M110 Silver</td>\n",
       "      <td>Contoso</td>\n",
       "      <td>...</td>\n",
       "      <td>26.67</td>\n",
       "      <td>57.99</td>\n",
       "      <td>602</td>\n",
       "      <td>Movie DVD</td>\n",
       "      <td>6</td>\n",
       "      <td>Music, Movies and Audio Books</td>\n",
       "      <td>Canada</td>\n",
       "      <td>Nunavut</td>\n",
       "      <td>1210.0</td>\n",
       "      <td>4/4/2015</td>\n",
       "    </tr>\n",
       "    <tr>\n",
       "      <th>9</th>\n",
       "      <td>1625012</td>\n",
       "      <td>4</td>\n",
       "      <td>6/13/2019</td>\n",
       "      <td>398671</td>\n",
       "      <td>10</td>\n",
       "      <td>2510</td>\n",
       "      <td>5</td>\n",
       "      <td>CAD</td>\n",
       "      <td>Contoso Original K1m Li-Ion Standard Battery E...</td>\n",
       "      <td>Contoso</td>\n",
       "      <td>...</td>\n",
       "      <td>2.07</td>\n",
       "      <td>4.06</td>\n",
       "      <td>505</td>\n",
       "      <td>Cell phones Accessories</td>\n",
       "      <td>5</td>\n",
       "      <td>Cell phones</td>\n",
       "      <td>Canada</td>\n",
       "      <td>Nunavut</td>\n",
       "      <td>1210.0</td>\n",
       "      <td>4/4/2015</td>\n",
       "    </tr>\n",
       "  </tbody>\n",
       "</table>\n",
       "<p>10 rows × 21 columns</p>\n",
       "</div>"
      ],
      "text/plain": [
       "   order_number  line_item  order_date  customer_key  store_key  product_key  \\\n",
       "0        366000          1    1/1/2016        265598         10         1304   \n",
       "1       1896020          1   3/10/2020        302645         10          373   \n",
       "2       1298021          1   7/21/2018        363584         10          163   \n",
       "3       1506050          4   2/14/2019        391900         10          163   \n",
       "4       1452075          3  12/22/2018        211746         10          421   \n",
       "5       1658017          4   7/16/2019        285552         10          421   \n",
       "6       1878036          2   2/21/2020        213985         10          421   \n",
       "7        675012          2   11/5/2016        205476         10         1617   \n",
       "8       1001002          2   9/27/2017        351430         10         1617   \n",
       "9       1625012          4   6/13/2019        398671         10         2510   \n",
       "\n",
       "   quantity currency_code                                       product_name  \\\n",
       "0         1           CAD                    Contoso Lens Adapter M450 White   \n",
       "1         1           CAD              Adventure Works Laptop8.9 E0890 White   \n",
       "2         8           CAD           Adventure Works 52\" LCD HDTV X790W White   \n",
       "3         4           CAD           Adventure Works 52\" LCD HDTV X790W White   \n",
       "4         2           CAD         Adventure Works Desktop PC3.0 MS300 Silver   \n",
       "5         1           CAD         Adventure Works Desktop PC3.0 MS300 Silver   \n",
       "6         1           CAD         Adventure Works Desktop PC3.0 MS300 Silver   \n",
       "7         2           CAD                     Contoso DVD Player M110 Silver   \n",
       "8         6           CAD                     Contoso DVD Player M110 Silver   \n",
       "9         5           CAD  Contoso Original K1m Li-Ion Standard Battery E...   \n",
       "\n",
       "             brand  ... unit_cost_usd  unit_price_usd  subcategory_key  \\\n",
       "0          Contoso  ...         31.27           68.00              406   \n",
       "1  Adventure Works  ...        166.20          326.00              301   \n",
       "2  Adventure Works  ...        527.53         1592.20              201   \n",
       "3  Adventure Works  ...        527.53         1592.20              201   \n",
       "4  Adventure Works  ...        215.68          469.00              303   \n",
       "5  Adventure Works  ...        215.68          469.00              303   \n",
       "6  Adventure Works  ...        215.68          469.00              303   \n",
       "7          Contoso  ...         26.67           57.99              602   \n",
       "8          Contoso  ...         26.67           57.99              602   \n",
       "9          Contoso  ...          2.07            4.06              505   \n",
       "\n",
       "                        subcategory category_key  \\\n",
       "0  Cameras & Camcorders Accessories            4   \n",
       "1                           Laptops            3   \n",
       "2                       Televisions            2   \n",
       "3                       Televisions            2   \n",
       "4                          Desktops            3   \n",
       "5                          Desktops            3   \n",
       "6                          Desktops            3   \n",
       "7                         Movie DVD            6   \n",
       "8                         Movie DVD            6   \n",
       "9           Cell phones Accessories            5   \n",
       "\n",
       "                        category country    state square_meters  open_date  \n",
       "0         Cameras and camcorders  Canada  Nunavut        1210.0   4/4/2015  \n",
       "1                      Computers  Canada  Nunavut        1210.0   4/4/2015  \n",
       "2                   TV and Video  Canada  Nunavut        1210.0   4/4/2015  \n",
       "3                   TV and Video  Canada  Nunavut        1210.0   4/4/2015  \n",
       "4                      Computers  Canada  Nunavut        1210.0   4/4/2015  \n",
       "5                      Computers  Canada  Nunavut        1210.0   4/4/2015  \n",
       "6                      Computers  Canada  Nunavut        1210.0   4/4/2015  \n",
       "7  Music, Movies and Audio Books  Canada  Nunavut        1210.0   4/4/2015  \n",
       "8  Music, Movies and Audio Books  Canada  Nunavut        1210.0   4/4/2015  \n",
       "9                    Cell phones  Canada  Nunavut        1210.0   4/4/2015  \n",
       "\n",
       "[10 rows x 21 columns]"
      ]
     },
     "execution_count": 63,
     "metadata": {},
     "output_type": "execute_result"
    }
   ],
   "source": [
    "df.head(10)"
   ]
  },
  {
   "cell_type": "code",
   "execution_count": 64,
   "id": "a6eebfd7",
   "metadata": {},
   "outputs": [
    {
     "data": {
      "text/plain": [
       "order_number           0\n",
       "line_item              0\n",
       "order_date             0\n",
       "customer_key           0\n",
       "store_key              0\n",
       "product_key            0\n",
       "quantity               0\n",
       "currency_code          0\n",
       "product_name           0\n",
       "brand                  0\n",
       "color                  0\n",
       "unit_cost_usd          0\n",
       "unit_price_usd         0\n",
       "subcategory_key        0\n",
       "subcategory            0\n",
       "category_key           0\n",
       "category               0\n",
       "country                0\n",
       "state                  0\n",
       "square_meters      13165\n",
       "open_date              0\n",
       "dtype: int64"
      ]
     },
     "execution_count": 64,
     "metadata": {},
     "output_type": "execute_result"
    }
   ],
   "source": [
    "df.isna().sum()"
   ]
  },
  {
   "cell_type": "code",
   "execution_count": 65,
   "id": "d331462e",
   "metadata": {},
   "outputs": [
    {
     "data": {
      "text/plain": [
       "(13165, 21)"
      ]
     },
     "execution_count": 65,
     "metadata": {},
     "output_type": "execute_result"
    }
   ],
   "source": [
    "online_stores = df.loc[df.store_key == 0]\n",
    "online_stores.shape"
   ]
  },
  {
   "cell_type": "markdown",
   "id": "b9aefe9f",
   "metadata": {},
   "source": [
    "As we saw before, we have an online distribution channel that does not have a physical location. For that reason, we have the same number of missing values in our dataset for square meterse as we the number of online transactions. \n",
    "\n",
    "13,165 values are missing from square meteres because they were purchases made online and not in a store. We will leave these values the way they are and address this during the modeling stage. "
   ]
  },
  {
   "cell_type": "code",
   "execution_count": 66,
   "id": "c1f716e1",
   "metadata": {},
   "outputs": [
    {
     "name": "stdout",
     "output_type": "stream",
     "text": [
      "<class 'pandas.core.frame.DataFrame'>\n",
      "Int64Index: 62884 entries, 0 to 62883\n",
      "Data columns (total 21 columns):\n",
      " #   Column           Non-Null Count  Dtype  \n",
      "---  ------           --------------  -----  \n",
      " 0   order_number     62884 non-null  int64  \n",
      " 1   line_item        62884 non-null  int64  \n",
      " 2   order_date       62884 non-null  object \n",
      " 3   customer_key     62884 non-null  int64  \n",
      " 4   store_key        62884 non-null  int64  \n",
      " 5   product_key      62884 non-null  int64  \n",
      " 6   quantity         62884 non-null  int64  \n",
      " 7   currency_code    62884 non-null  object \n",
      " 8   product_name     62884 non-null  object \n",
      " 9   brand            62884 non-null  object \n",
      " 10  color            62884 non-null  object \n",
      " 11  unit_cost_usd    62884 non-null  float64\n",
      " 12  unit_price_usd   62884 non-null  float64\n",
      " 13  subcategory_key  62884 non-null  int64  \n",
      " 14  subcategory      62884 non-null  object \n",
      " 15  category_key     62884 non-null  int64  \n",
      " 16  category         62884 non-null  object \n",
      " 17  country          62884 non-null  object \n",
      " 18  state            62884 non-null  object \n",
      " 19  square_meters    49719 non-null  float64\n",
      " 20  open_date        62884 non-null  object \n",
      "dtypes: float64(3), int64(8), object(10)\n",
      "memory usage: 10.6+ MB\n"
     ]
    }
   ],
   "source": [
    "df.info()"
   ]
  },
  {
   "cell_type": "markdown",
   "id": "d57f154f",
   "metadata": {},
   "source": [
    "**Preliminary Feature Engineering**"
   ]
  },
  {
   "cell_type": "markdown",
   "id": "c9fab18e",
   "metadata": {},
   "source": [
    "While we will dive deeper into engineering other features such as intercation and polynomial features, there are some obvious ones we can make now, including building our target feature. \n",
    "\n",
    "First we need to cirecle back and remember that we have multiple currencies, however, our categories unit_cost and unit_price have already been converted into USD, so we will continue using USD as the baseline for analysis. \n",
    "\n",
    "- Revenue\n",
    "- Costs\n",
    "- Profit Margin "
   ]
  },
  {
   "cell_type": "code",
   "execution_count": 67,
   "id": "8dc5345c",
   "metadata": {},
   "outputs": [],
   "source": [
    "df['revenue'] = df['unit_price_usd'] * df['quantity']"
   ]
  },
  {
   "cell_type": "code",
   "execution_count": 68,
   "id": "6cb98cfa",
   "metadata": {},
   "outputs": [],
   "source": [
    "df['costs'] = df['unit_cost_usd'] * df['quantity']"
   ]
  },
  {
   "cell_type": "code",
   "execution_count": 69,
   "id": "e0f91e9a",
   "metadata": {},
   "outputs": [],
   "source": [
    "df['profit_margin'] = df['revenue'] - df['costs']"
   ]
  },
  {
   "cell_type": "code",
   "execution_count": 70,
   "id": "05ee6f33",
   "metadata": {},
   "outputs": [
    {
     "data": {
      "text/html": [
       "<div>\n",
       "<style scoped>\n",
       "    .dataframe tbody tr th:only-of-type {\n",
       "        vertical-align: middle;\n",
       "    }\n",
       "\n",
       "    .dataframe tbody tr th {\n",
       "        vertical-align: top;\n",
       "    }\n",
       "\n",
       "    .dataframe thead th {\n",
       "        text-align: right;\n",
       "    }\n",
       "</style>\n",
       "<table border=\"1\" class=\"dataframe\">\n",
       "  <thead>\n",
       "    <tr style=\"text-align: right;\">\n",
       "      <th></th>\n",
       "      <th>order_number</th>\n",
       "      <th>line_item</th>\n",
       "      <th>order_date</th>\n",
       "      <th>customer_key</th>\n",
       "      <th>store_key</th>\n",
       "      <th>product_key</th>\n",
       "      <th>quantity</th>\n",
       "      <th>currency_code</th>\n",
       "      <th>product_name</th>\n",
       "      <th>brand</th>\n",
       "      <th>...</th>\n",
       "      <th>subcategory</th>\n",
       "      <th>category_key</th>\n",
       "      <th>category</th>\n",
       "      <th>country</th>\n",
       "      <th>state</th>\n",
       "      <th>square_meters</th>\n",
       "      <th>open_date</th>\n",
       "      <th>revenue</th>\n",
       "      <th>costs</th>\n",
       "      <th>profit_margin</th>\n",
       "    </tr>\n",
       "  </thead>\n",
       "  <tbody>\n",
       "    <tr>\n",
       "      <th>0</th>\n",
       "      <td>366000</td>\n",
       "      <td>1</td>\n",
       "      <td>1/1/2016</td>\n",
       "      <td>265598</td>\n",
       "      <td>10</td>\n",
       "      <td>1304</td>\n",
       "      <td>1</td>\n",
       "      <td>CAD</td>\n",
       "      <td>Contoso Lens Adapter M450 White</td>\n",
       "      <td>Contoso</td>\n",
       "      <td>...</td>\n",
       "      <td>Cameras &amp; Camcorders Accessories</td>\n",
       "      <td>4</td>\n",
       "      <td>Cameras and camcorders</td>\n",
       "      <td>Canada</td>\n",
       "      <td>Nunavut</td>\n",
       "      <td>1210.0</td>\n",
       "      <td>4/4/2015</td>\n",
       "      <td>68.0</td>\n",
       "      <td>31.27</td>\n",
       "      <td>36.73</td>\n",
       "    </tr>\n",
       "    <tr>\n",
       "      <th>1</th>\n",
       "      <td>1896020</td>\n",
       "      <td>1</td>\n",
       "      <td>3/10/2020</td>\n",
       "      <td>302645</td>\n",
       "      <td>10</td>\n",
       "      <td>373</td>\n",
       "      <td>1</td>\n",
       "      <td>CAD</td>\n",
       "      <td>Adventure Works Laptop8.9 E0890 White</td>\n",
       "      <td>Adventure Works</td>\n",
       "      <td>...</td>\n",
       "      <td>Laptops</td>\n",
       "      <td>3</td>\n",
       "      <td>Computers</td>\n",
       "      <td>Canada</td>\n",
       "      <td>Nunavut</td>\n",
       "      <td>1210.0</td>\n",
       "      <td>4/4/2015</td>\n",
       "      <td>326.0</td>\n",
       "      <td>166.20</td>\n",
       "      <td>159.80</td>\n",
       "    </tr>\n",
       "    <tr>\n",
       "      <th>2</th>\n",
       "      <td>1298021</td>\n",
       "      <td>1</td>\n",
       "      <td>7/21/2018</td>\n",
       "      <td>363584</td>\n",
       "      <td>10</td>\n",
       "      <td>163</td>\n",
       "      <td>8</td>\n",
       "      <td>CAD</td>\n",
       "      <td>Adventure Works 52\" LCD HDTV X790W White</td>\n",
       "      <td>Adventure Works</td>\n",
       "      <td>...</td>\n",
       "      <td>Televisions</td>\n",
       "      <td>2</td>\n",
       "      <td>TV and Video</td>\n",
       "      <td>Canada</td>\n",
       "      <td>Nunavut</td>\n",
       "      <td>1210.0</td>\n",
       "      <td>4/4/2015</td>\n",
       "      <td>12737.6</td>\n",
       "      <td>4220.24</td>\n",
       "      <td>8517.36</td>\n",
       "    </tr>\n",
       "    <tr>\n",
       "      <th>3</th>\n",
       "      <td>1506050</td>\n",
       "      <td>4</td>\n",
       "      <td>2/14/2019</td>\n",
       "      <td>391900</td>\n",
       "      <td>10</td>\n",
       "      <td>163</td>\n",
       "      <td>4</td>\n",
       "      <td>CAD</td>\n",
       "      <td>Adventure Works 52\" LCD HDTV X790W White</td>\n",
       "      <td>Adventure Works</td>\n",
       "      <td>...</td>\n",
       "      <td>Televisions</td>\n",
       "      <td>2</td>\n",
       "      <td>TV and Video</td>\n",
       "      <td>Canada</td>\n",
       "      <td>Nunavut</td>\n",
       "      <td>1210.0</td>\n",
       "      <td>4/4/2015</td>\n",
       "      <td>6368.8</td>\n",
       "      <td>2110.12</td>\n",
       "      <td>4258.68</td>\n",
       "    </tr>\n",
       "    <tr>\n",
       "      <th>4</th>\n",
       "      <td>1452075</td>\n",
       "      <td>3</td>\n",
       "      <td>12/22/2018</td>\n",
       "      <td>211746</td>\n",
       "      <td>10</td>\n",
       "      <td>421</td>\n",
       "      <td>2</td>\n",
       "      <td>CAD</td>\n",
       "      <td>Adventure Works Desktop PC3.0 MS300 Silver</td>\n",
       "      <td>Adventure Works</td>\n",
       "      <td>...</td>\n",
       "      <td>Desktops</td>\n",
       "      <td>3</td>\n",
       "      <td>Computers</td>\n",
       "      <td>Canada</td>\n",
       "      <td>Nunavut</td>\n",
       "      <td>1210.0</td>\n",
       "      <td>4/4/2015</td>\n",
       "      <td>938.0</td>\n",
       "      <td>431.36</td>\n",
       "      <td>506.64</td>\n",
       "    </tr>\n",
       "  </tbody>\n",
       "</table>\n",
       "<p>5 rows × 24 columns</p>\n",
       "</div>"
      ],
      "text/plain": [
       "   order_number  line_item  order_date  customer_key  store_key  product_key  \\\n",
       "0        366000          1    1/1/2016        265598         10         1304   \n",
       "1       1896020          1   3/10/2020        302645         10          373   \n",
       "2       1298021          1   7/21/2018        363584         10          163   \n",
       "3       1506050          4   2/14/2019        391900         10          163   \n",
       "4       1452075          3  12/22/2018        211746         10          421   \n",
       "\n",
       "   quantity currency_code                                product_name  \\\n",
       "0         1           CAD             Contoso Lens Adapter M450 White   \n",
       "1         1           CAD       Adventure Works Laptop8.9 E0890 White   \n",
       "2         8           CAD    Adventure Works 52\" LCD HDTV X790W White   \n",
       "3         4           CAD    Adventure Works 52\" LCD HDTV X790W White   \n",
       "4         2           CAD  Adventure Works Desktop PC3.0 MS300 Silver   \n",
       "\n",
       "             brand  ...                       subcategory  category_key  \\\n",
       "0          Contoso  ...  Cameras & Camcorders Accessories             4   \n",
       "1  Adventure Works  ...                           Laptops             3   \n",
       "2  Adventure Works  ...                       Televisions             2   \n",
       "3  Adventure Works  ...                       Televisions             2   \n",
       "4  Adventure Works  ...                          Desktops             3   \n",
       "\n",
       "                 category  country    state  square_meters open_date  revenue  \\\n",
       "0  Cameras and camcorders   Canada  Nunavut         1210.0  4/4/2015     68.0   \n",
       "1               Computers   Canada  Nunavut         1210.0  4/4/2015    326.0   \n",
       "2            TV and Video   Canada  Nunavut         1210.0  4/4/2015  12737.6   \n",
       "3            TV and Video   Canada  Nunavut         1210.0  4/4/2015   6368.8   \n",
       "4               Computers   Canada  Nunavut         1210.0  4/4/2015    938.0   \n",
       "\n",
       "     costs  profit_margin  \n",
       "0    31.27          36.73  \n",
       "1   166.20         159.80  \n",
       "2  4220.24        8517.36  \n",
       "3  2110.12        4258.68  \n",
       "4   431.36         506.64  \n",
       "\n",
       "[5 rows x 24 columns]"
      ]
     },
     "execution_count": 70,
     "metadata": {},
     "output_type": "execute_result"
    }
   ],
   "source": [
    "df.head()"
   ]
  },
  {
   "cell_type": "markdown",
   "id": "9c035e39",
   "metadata": {},
   "source": [
    "Let's go back to the unique customer we looked at earlier to see if the math adds up:"
   ]
  },
  {
   "cell_type": "code",
   "execution_count": 71,
   "id": "1e1a4700",
   "metadata": {},
   "outputs": [
    {
     "data": {
      "text/html": [
       "<div>\n",
       "<style scoped>\n",
       "    .dataframe tbody tr th:only-of-type {\n",
       "        vertical-align: middle;\n",
       "    }\n",
       "\n",
       "    .dataframe tbody tr th {\n",
       "        vertical-align: top;\n",
       "    }\n",
       "\n",
       "    .dataframe thead th {\n",
       "        text-align: right;\n",
       "    }\n",
       "</style>\n",
       "<table border=\"1\" class=\"dataframe\">\n",
       "  <thead>\n",
       "    <tr style=\"text-align: right;\">\n",
       "      <th></th>\n",
       "      <th>order_number</th>\n",
       "      <th>customer_key</th>\n",
       "      <th>store_key</th>\n",
       "      <th>unit_cost_usd</th>\n",
       "      <th>unit_price_usd</th>\n",
       "      <th>quantity</th>\n",
       "      <th>revenue</th>\n",
       "      <th>costs</th>\n",
       "      <th>profit_margin</th>\n",
       "    </tr>\n",
       "  </thead>\n",
       "  <tbody>\n",
       "    <tr>\n",
       "      <th>0</th>\n",
       "      <td>366000</td>\n",
       "      <td>265598</td>\n",
       "      <td>10</td>\n",
       "      <td>31.27</td>\n",
       "      <td>68.00</td>\n",
       "      <td>1</td>\n",
       "      <td>68.00</td>\n",
       "      <td>31.27</td>\n",
       "      <td>36.73</td>\n",
       "    </tr>\n",
       "    <tr>\n",
       "      <th>8716</th>\n",
       "      <td>1749017</td>\n",
       "      <td>265598</td>\n",
       "      <td>0</td>\n",
       "      <td>27.59</td>\n",
       "      <td>59.99</td>\n",
       "      <td>1</td>\n",
       "      <td>59.99</td>\n",
       "      <td>27.59</td>\n",
       "      <td>32.40</td>\n",
       "    </tr>\n",
       "    <tr>\n",
       "      <th>14128</th>\n",
       "      <td>1749017</td>\n",
       "      <td>265598</td>\n",
       "      <td>0</td>\n",
       "      <td>91.95</td>\n",
       "      <td>199.95</td>\n",
       "      <td>1</td>\n",
       "      <td>199.95</td>\n",
       "      <td>91.95</td>\n",
       "      <td>108.00</td>\n",
       "    </tr>\n",
       "    <tr>\n",
       "      <th>16196</th>\n",
       "      <td>1749017</td>\n",
       "      <td>265598</td>\n",
       "      <td>0</td>\n",
       "      <td>23.86</td>\n",
       "      <td>46.80</td>\n",
       "      <td>2</td>\n",
       "      <td>93.60</td>\n",
       "      <td>47.72</td>\n",
       "      <td>45.88</td>\n",
       "    </tr>\n",
       "    <tr>\n",
       "      <th>36465</th>\n",
       "      <td>891000</td>\n",
       "      <td>265598</td>\n",
       "      <td>9</td>\n",
       "      <td>43.04</td>\n",
       "      <td>129.90</td>\n",
       "      <td>1</td>\n",
       "      <td>129.90</td>\n",
       "      <td>43.04</td>\n",
       "      <td>86.86</td>\n",
       "    </tr>\n",
       "    <tr>\n",
       "      <th>36610</th>\n",
       "      <td>891000</td>\n",
       "      <td>265598</td>\n",
       "      <td>9</td>\n",
       "      <td>166.20</td>\n",
       "      <td>326.00</td>\n",
       "      <td>2</td>\n",
       "      <td>652.00</td>\n",
       "      <td>332.40</td>\n",
       "      <td>319.60</td>\n",
       "    </tr>\n",
       "    <tr>\n",
       "      <th>36711</th>\n",
       "      <td>891000</td>\n",
       "      <td>265598</td>\n",
       "      <td>9</td>\n",
       "      <td>45.98</td>\n",
       "      <td>99.99</td>\n",
       "      <td>1</td>\n",
       "      <td>99.99</td>\n",
       "      <td>45.98</td>\n",
       "      <td>54.01</td>\n",
       "    </tr>\n",
       "    <tr>\n",
       "      <th>37236</th>\n",
       "      <td>891000</td>\n",
       "      <td>265598</td>\n",
       "      <td>9</td>\n",
       "      <td>72.66</td>\n",
       "      <td>158.00</td>\n",
       "      <td>1</td>\n",
       "      <td>158.00</td>\n",
       "      <td>72.66</td>\n",
       "      <td>85.34</td>\n",
       "    </tr>\n",
       "  </tbody>\n",
       "</table>\n",
       "</div>"
      ],
      "text/plain": [
       "       order_number  customer_key  store_key  unit_cost_usd  unit_price_usd  \\\n",
       "0            366000        265598         10          31.27           68.00   \n",
       "8716        1749017        265598          0          27.59           59.99   \n",
       "14128       1749017        265598          0          91.95          199.95   \n",
       "16196       1749017        265598          0          23.86           46.80   \n",
       "36465        891000        265598          9          43.04          129.90   \n",
       "36610        891000        265598          9         166.20          326.00   \n",
       "36711        891000        265598          9          45.98           99.99   \n",
       "37236        891000        265598          9          72.66          158.00   \n",
       "\n",
       "       quantity  revenue   costs  profit_margin  \n",
       "0             1    68.00   31.27          36.73  \n",
       "8716          1    59.99   27.59          32.40  \n",
       "14128         1   199.95   91.95         108.00  \n",
       "16196         2    93.60   47.72          45.88  \n",
       "36465         1   129.90   43.04          86.86  \n",
       "36610         2   652.00  332.40         319.60  \n",
       "36711         1    99.99   45.98          54.01  \n",
       "37236         1   158.00   72.66          85.34  "
      ]
     },
     "execution_count": 71,
     "metadata": {},
     "output_type": "execute_result"
    }
   ],
   "source": [
    "unique_customer = df.loc[df.customer_key == 265598.0]\n",
    "unique_customer[['order_number', 'customer_key', 'store_key', 'unit_cost_usd', 'unit_price_usd', 'quantity', 'revenue', 'costs', 'profit_margin']]"
   ]
  },
  {
   "cell_type": "markdown",
   "id": "73b18112",
   "metadata": {},
   "source": [
    "The math is mathing"
   ]
  },
  {
   "cell_type": "markdown",
   "id": "e1037334",
   "metadata": {},
   "source": [
    "Lastly, we will import the customer dataset to include features such as gender, birthdate (to get age), in order to see if these features have strong influence on our target **profit margin** "
   ]
  },
  {
   "cell_type": "markdown",
   "id": "49d07a06",
   "metadata": {},
   "source": [
    "# Third Merge"
   ]
  },
  {
   "cell_type": "code",
   "execution_count": 72,
   "id": "b0fff26c",
   "metadata": {},
   "outputs": [],
   "source": [
    "file_path = '~/Desktop/Customers.csv'\n",
    "\n",
    "customers_df = pd.read_csv(file_path, encoding='ISO-8859-1')"
   ]
  },
  {
   "cell_type": "code",
   "execution_count": 73,
   "id": "944151dc",
   "metadata": {},
   "outputs": [
    {
     "data": {
      "text/html": [
       "<div>\n",
       "<style scoped>\n",
       "    .dataframe tbody tr th:only-of-type {\n",
       "        vertical-align: middle;\n",
       "    }\n",
       "\n",
       "    .dataframe tbody tr th {\n",
       "        vertical-align: top;\n",
       "    }\n",
       "\n",
       "    .dataframe thead th {\n",
       "        text-align: right;\n",
       "    }\n",
       "</style>\n",
       "<table border=\"1\" class=\"dataframe\">\n",
       "  <thead>\n",
       "    <tr style=\"text-align: right;\">\n",
       "      <th></th>\n",
       "      <th>customer_key</th>\n",
       "      <th>gender</th>\n",
       "      <th>name</th>\n",
       "      <th>city</th>\n",
       "      <th>state_code</th>\n",
       "      <th>state</th>\n",
       "      <th>zip_code</th>\n",
       "      <th>country</th>\n",
       "      <th>continent</th>\n",
       "      <th>birthday</th>\n",
       "    </tr>\n",
       "  </thead>\n",
       "  <tbody>\n",
       "    <tr>\n",
       "      <th>0</th>\n",
       "      <td>301</td>\n",
       "      <td>Female</td>\n",
       "      <td>Lilly Harding</td>\n",
       "      <td>WANDEARAH EAST</td>\n",
       "      <td>SA</td>\n",
       "      <td>South Australia</td>\n",
       "      <td>5523</td>\n",
       "      <td>Australia</td>\n",
       "      <td>Australia</td>\n",
       "      <td>7/3/1939</td>\n",
       "    </tr>\n",
       "    <tr>\n",
       "      <th>1</th>\n",
       "      <td>325</td>\n",
       "      <td>Female</td>\n",
       "      <td>Madison Hull</td>\n",
       "      <td>MOUNT BUDD</td>\n",
       "      <td>WA</td>\n",
       "      <td>Western Australia</td>\n",
       "      <td>6522</td>\n",
       "      <td>Australia</td>\n",
       "      <td>Australia</td>\n",
       "      <td>9/27/1979</td>\n",
       "    </tr>\n",
       "    <tr>\n",
       "      <th>2</th>\n",
       "      <td>554</td>\n",
       "      <td>Female</td>\n",
       "      <td>Claire Ferres</td>\n",
       "      <td>WINJALLOK</td>\n",
       "      <td>VIC</td>\n",
       "      <td>Victoria</td>\n",
       "      <td>3380</td>\n",
       "      <td>Australia</td>\n",
       "      <td>Australia</td>\n",
       "      <td>5/26/1947</td>\n",
       "    </tr>\n",
       "    <tr>\n",
       "      <th>3</th>\n",
       "      <td>786</td>\n",
       "      <td>Male</td>\n",
       "      <td>Jai Poltpalingada</td>\n",
       "      <td>MIDDLE RIVER</td>\n",
       "      <td>SA</td>\n",
       "      <td>South Australia</td>\n",
       "      <td>5223</td>\n",
       "      <td>Australia</td>\n",
       "      <td>Australia</td>\n",
       "      <td>9/17/1957</td>\n",
       "    </tr>\n",
       "    <tr>\n",
       "      <th>4</th>\n",
       "      <td>1042</td>\n",
       "      <td>Male</td>\n",
       "      <td>Aidan Pankhurst</td>\n",
       "      <td>TAWONGA SOUTH</td>\n",
       "      <td>VIC</td>\n",
       "      <td>Victoria</td>\n",
       "      <td>3698</td>\n",
       "      <td>Australia</td>\n",
       "      <td>Australia</td>\n",
       "      <td>11/19/1965</td>\n",
       "    </tr>\n",
       "  </tbody>\n",
       "</table>\n",
       "</div>"
      ],
      "text/plain": [
       "   customer_key  gender               name            city state_code  \\\n",
       "0           301  Female      Lilly Harding  WANDEARAH EAST         SA   \n",
       "1           325  Female       Madison Hull      MOUNT BUDD         WA   \n",
       "2           554  Female      Claire Ferres       WINJALLOK        VIC   \n",
       "3           786    Male  Jai Poltpalingada    MIDDLE RIVER         SA   \n",
       "4          1042    Male    Aidan Pankhurst   TAWONGA SOUTH        VIC   \n",
       "\n",
       "               state zip_code    country  continent    birthday  \n",
       "0    South Australia     5523  Australia  Australia    7/3/1939  \n",
       "1  Western Australia     6522  Australia  Australia   9/27/1979  \n",
       "2           Victoria     3380  Australia  Australia   5/26/1947  \n",
       "3    South Australia     5223  Australia  Australia   9/17/1957  \n",
       "4           Victoria     3698  Australia  Australia  11/19/1965  "
      ]
     },
     "execution_count": 73,
     "metadata": {},
     "output_type": "execute_result"
    }
   ],
   "source": [
    "customers_df.head()"
   ]
  },
  {
   "cell_type": "code",
   "execution_count": 74,
   "id": "ae116f91",
   "metadata": {},
   "outputs": [
    {
     "data": {
      "text/plain": [
       "customer_key     0\n",
       "gender           0\n",
       "name             0\n",
       "city             0\n",
       "state_code      10\n",
       "state            0\n",
       "zip_code         0\n",
       "country          0\n",
       "continent        0\n",
       "birthday         0\n",
       "dtype: int64"
      ]
     },
     "execution_count": 74,
     "metadata": {},
     "output_type": "execute_result"
    }
   ],
   "source": [
    "customers_df.isna().sum()"
   ]
  },
  {
   "cell_type": "code",
   "execution_count": 75,
   "id": "cc9e697f",
   "metadata": {},
   "outputs": [],
   "source": [
    "extract_columns = ['customer_key', 'city', 'gender', 'zip_code', 'birthday']\n",
    "\n",
    "customers_df = customers_df[extract_columns]"
   ]
  },
  {
   "cell_type": "code",
   "execution_count": 76,
   "id": "0b262593",
   "metadata": {},
   "outputs": [
    {
     "data": {
      "text/plain": [
       "Index(['customer_key', 'city', 'gender', 'zip_code', 'birthday'], dtype='object')"
      ]
     },
     "execution_count": 76,
     "metadata": {},
     "output_type": "execute_result"
    }
   ],
   "source": [
    "customers_df.columns"
   ]
  },
  {
   "cell_type": "markdown",
   "id": "55207d09",
   "metadata": {},
   "source": [
    "We won't be needing state_code anyway"
   ]
  },
  {
   "cell_type": "code",
   "execution_count": 77,
   "id": "f4ad32d4",
   "metadata": {},
   "outputs": [],
   "source": [
    "df = pd.merge(df, customers_df, on='customer_key', how='inner')"
   ]
  },
  {
   "cell_type": "code",
   "execution_count": 78,
   "id": "11eda1f4",
   "metadata": {},
   "outputs": [
    {
     "data": {
      "text/html": [
       "<div>\n",
       "<style scoped>\n",
       "    .dataframe tbody tr th:only-of-type {\n",
       "        vertical-align: middle;\n",
       "    }\n",
       "\n",
       "    .dataframe tbody tr th {\n",
       "        vertical-align: top;\n",
       "    }\n",
       "\n",
       "    .dataframe thead th {\n",
       "        text-align: right;\n",
       "    }\n",
       "</style>\n",
       "<table border=\"1\" class=\"dataframe\">\n",
       "  <thead>\n",
       "    <tr style=\"text-align: right;\">\n",
       "      <th></th>\n",
       "      <th>order_number</th>\n",
       "      <th>line_item</th>\n",
       "      <th>order_date</th>\n",
       "      <th>customer_key</th>\n",
       "      <th>store_key</th>\n",
       "      <th>product_key</th>\n",
       "      <th>quantity</th>\n",
       "      <th>currency_code</th>\n",
       "      <th>product_name</th>\n",
       "      <th>brand</th>\n",
       "      <th>...</th>\n",
       "      <th>state</th>\n",
       "      <th>square_meters</th>\n",
       "      <th>open_date</th>\n",
       "      <th>revenue</th>\n",
       "      <th>costs</th>\n",
       "      <th>profit_margin</th>\n",
       "      <th>city</th>\n",
       "      <th>gender</th>\n",
       "      <th>zip_code</th>\n",
       "      <th>birthday</th>\n",
       "    </tr>\n",
       "  </thead>\n",
       "  <tbody>\n",
       "    <tr>\n",
       "      <th>0</th>\n",
       "      <td>366000</td>\n",
       "      <td>1</td>\n",
       "      <td>1/1/2016</td>\n",
       "      <td>265598</td>\n",
       "      <td>10</td>\n",
       "      <td>1304</td>\n",
       "      <td>1</td>\n",
       "      <td>CAD</td>\n",
       "      <td>Contoso Lens Adapter M450 White</td>\n",
       "      <td>Contoso</td>\n",
       "      <td>...</td>\n",
       "      <td>Nunavut</td>\n",
       "      <td>1210.0</td>\n",
       "      <td>4/4/2015</td>\n",
       "      <td>68.00</td>\n",
       "      <td>31.27</td>\n",
       "      <td>36.73</td>\n",
       "      <td>London</td>\n",
       "      <td>Male</td>\n",
       "      <td>N5W 5K6</td>\n",
       "      <td>3/23/1971</td>\n",
       "    </tr>\n",
       "    <tr>\n",
       "      <th>1</th>\n",
       "      <td>1749017</td>\n",
       "      <td>1</td>\n",
       "      <td>10/15/2019</td>\n",
       "      <td>265598</td>\n",
       "      <td>0</td>\n",
       "      <td>1619</td>\n",
       "      <td>1</td>\n",
       "      <td>CAD</td>\n",
       "      <td>Contoso DVD Player M130 Grey</td>\n",
       "      <td>Contoso</td>\n",
       "      <td>...</td>\n",
       "      <td>Online</td>\n",
       "      <td>NaN</td>\n",
       "      <td>1/1/2010</td>\n",
       "      <td>59.99</td>\n",
       "      <td>27.59</td>\n",
       "      <td>32.40</td>\n",
       "      <td>London</td>\n",
       "      <td>Male</td>\n",
       "      <td>N5W 5K6</td>\n",
       "      <td>3/23/1971</td>\n",
       "    </tr>\n",
       "    <tr>\n",
       "      <th>2</th>\n",
       "      <td>1749017</td>\n",
       "      <td>3</td>\n",
       "      <td>10/15/2019</td>\n",
       "      <td>265598</td>\n",
       "      <td>0</td>\n",
       "      <td>52</td>\n",
       "      <td>1</td>\n",
       "      <td>CAD</td>\n",
       "      <td>WWI 2GB Pulse Smart pen M100 Silver</td>\n",
       "      <td>Wide World Importers</td>\n",
       "      <td>...</td>\n",
       "      <td>Online</td>\n",
       "      <td>NaN</td>\n",
       "      <td>1/1/2010</td>\n",
       "      <td>199.95</td>\n",
       "      <td>91.95</td>\n",
       "      <td>108.00</td>\n",
       "      <td>London</td>\n",
       "      <td>Male</td>\n",
       "      <td>N5W 5K6</td>\n",
       "      <td>3/23/1971</td>\n",
       "    </tr>\n",
       "    <tr>\n",
       "      <th>3</th>\n",
       "      <td>1749017</td>\n",
       "      <td>2</td>\n",
       "      <td>10/15/2019</td>\n",
       "      <td>265598</td>\n",
       "      <td>0</td>\n",
       "      <td>1764</td>\n",
       "      <td>2</td>\n",
       "      <td>CAD</td>\n",
       "      <td>MGS Age of Empires II: The Age of Kings E126</td>\n",
       "      <td>Tailspin Toys</td>\n",
       "      <td>...</td>\n",
       "      <td>Online</td>\n",
       "      <td>NaN</td>\n",
       "      <td>1/1/2010</td>\n",
       "      <td>93.60</td>\n",
       "      <td>47.72</td>\n",
       "      <td>45.88</td>\n",
       "      <td>London</td>\n",
       "      <td>Male</td>\n",
       "      <td>N5W 5K6</td>\n",
       "      <td>3/23/1971</td>\n",
       "    </tr>\n",
       "    <tr>\n",
       "      <th>4</th>\n",
       "      <td>891000</td>\n",
       "      <td>2</td>\n",
       "      <td>6/9/2017</td>\n",
       "      <td>265598</td>\n",
       "      <td>9</td>\n",
       "      <td>174</td>\n",
       "      <td>1</td>\n",
       "      <td>CAD</td>\n",
       "      <td>SV 22xDVD M600 Black</td>\n",
       "      <td>Southridge Video</td>\n",
       "      <td>...</td>\n",
       "      <td>Northwest Territories</td>\n",
       "      <td>1500.0</td>\n",
       "      <td>3/4/2005</td>\n",
       "      <td>129.90</td>\n",
       "      <td>43.04</td>\n",
       "      <td>86.86</td>\n",
       "      <td>London</td>\n",
       "      <td>Male</td>\n",
       "      <td>N5W 5K6</td>\n",
       "      <td>3/23/1971</td>\n",
       "    </tr>\n",
       "  </tbody>\n",
       "</table>\n",
       "<p>5 rows × 28 columns</p>\n",
       "</div>"
      ],
      "text/plain": [
       "   order_number  line_item  order_date  customer_key  store_key  product_key  \\\n",
       "0        366000          1    1/1/2016        265598         10         1304   \n",
       "1       1749017          1  10/15/2019        265598          0         1619   \n",
       "2       1749017          3  10/15/2019        265598          0           52   \n",
       "3       1749017          2  10/15/2019        265598          0         1764   \n",
       "4        891000          2    6/9/2017        265598          9          174   \n",
       "\n",
       "   quantity currency_code                                  product_name  \\\n",
       "0         1           CAD               Contoso Lens Adapter M450 White   \n",
       "1         1           CAD                  Contoso DVD Player M130 Grey   \n",
       "2         1           CAD           WWI 2GB Pulse Smart pen M100 Silver   \n",
       "3         2           CAD  MGS Age of Empires II: The Age of Kings E126   \n",
       "4         1           CAD                          SV 22xDVD M600 Black   \n",
       "\n",
       "                  brand  ...                  state  square_meters  open_date  \\\n",
       "0               Contoso  ...                Nunavut         1210.0   4/4/2015   \n",
       "1               Contoso  ...                 Online            NaN   1/1/2010   \n",
       "2  Wide World Importers  ...                 Online            NaN   1/1/2010   \n",
       "3         Tailspin Toys  ...                 Online            NaN   1/1/2010   \n",
       "4      Southridge Video  ...  Northwest Territories         1500.0   3/4/2005   \n",
       "\n",
       "   revenue  costs  profit_margin    city gender zip_code   birthday  \n",
       "0    68.00  31.27          36.73  London   Male  N5W 5K6  3/23/1971  \n",
       "1    59.99  27.59          32.40  London   Male  N5W 5K6  3/23/1971  \n",
       "2   199.95  91.95         108.00  London   Male  N5W 5K6  3/23/1971  \n",
       "3    93.60  47.72          45.88  London   Male  N5W 5K6  3/23/1971  \n",
       "4   129.90  43.04          86.86  London   Male  N5W 5K6  3/23/1971  \n",
       "\n",
       "[5 rows x 28 columns]"
      ]
     },
     "execution_count": 78,
     "metadata": {},
     "output_type": "execute_result"
    }
   ],
   "source": [
    "df.head()"
   ]
  },
  {
   "cell_type": "code",
   "execution_count": 79,
   "id": "6cbc20df",
   "metadata": {},
   "outputs": [
    {
     "data": {
      "text/plain": [
       "order_number           0\n",
       "line_item              0\n",
       "order_date             0\n",
       "customer_key           0\n",
       "store_key              0\n",
       "product_key            0\n",
       "quantity               0\n",
       "currency_code          0\n",
       "product_name           0\n",
       "brand                  0\n",
       "color                  0\n",
       "unit_cost_usd          0\n",
       "unit_price_usd         0\n",
       "subcategory_key        0\n",
       "subcategory            0\n",
       "category_key           0\n",
       "category               0\n",
       "country                0\n",
       "state                  0\n",
       "square_meters      13165\n",
       "open_date              0\n",
       "revenue                0\n",
       "costs                  0\n",
       "profit_margin          0\n",
       "city                   0\n",
       "gender                 0\n",
       "zip_code               0\n",
       "birthday               0\n",
       "dtype: int64"
      ]
     },
     "execution_count": 79,
     "metadata": {},
     "output_type": "execute_result"
    }
   ],
   "source": [
    "df.isna().sum()"
   ]
  },
  {
   "cell_type": "markdown",
   "id": "ae1de209",
   "metadata": {},
   "source": [
    "Let's take a look at our customer age groups and create necessary columns:"
   ]
  },
  {
   "cell_type": "code",
   "execution_count": 80,
   "id": "c023fd8b",
   "metadata": {},
   "outputs": [
    {
     "name": "stdout",
     "output_type": "stream",
     "text": [
      "1/1/2016\n",
      "9/9/2020\n"
     ]
    }
   ],
   "source": [
    "#Take a look at our date Range \n",
    "\n",
    "print(df.order_date.min())\n",
    "print(df.order_date.max())"
   ]
  },
  {
   "cell_type": "code",
   "execution_count": 81,
   "id": "e50fc8b6",
   "metadata": {},
   "outputs": [
    {
     "name": "stdout",
     "output_type": "stream",
     "text": [
      "object\n"
     ]
    }
   ],
   "source": [
    "print(df.order_date.dtype)"
   ]
  },
  {
   "cell_type": "code",
   "execution_count": 82,
   "id": "a212913d",
   "metadata": {},
   "outputs": [
    {
     "name": "stdout",
     "output_type": "stream",
     "text": [
      "datetime64[ns]\n"
     ]
    }
   ],
   "source": [
    "#Convert order date to datetime\n",
    "\n",
    "df.order_date = pd.to_datetime(df['order_date'])\n",
    "print(df['order_date'].dtype)"
   ]
  },
  {
   "cell_type": "code",
   "execution_count": 83,
   "id": "250c8cf3",
   "metadata": {},
   "outputs": [
    {
     "name": "stdout",
     "output_type": "stream",
     "text": [
      "datetime64[ns]\n"
     ]
    }
   ],
   "source": [
    "#Convert birthday to datetime\n",
    "\n",
    "df['birthday'] = pd.to_datetime(df['birthday'])\n",
    "print(df['birthday'].dtype)"
   ]
  },
  {
   "cell_type": "code",
   "execution_count": 84,
   "id": "6cb1a4e3",
   "metadata": {},
   "outputs": [
    {
     "data": {
      "text/plain": [
       "array([1971, 1985, 1977, 1994, 1947, 1957, 1958, 1950, 1987, 1952, 1980,\n",
       "       1949, 1998, 1975, 1993, 1960, 1938, 1979, 1935, 1948, 1946, 1942,\n",
       "       1967, 1953, 1951, 1968, 1944, 1959, 2000, 1965, 1978, 1982, 2001,\n",
       "       1963, 1966, 1973, 1941, 1988, 1986, 1983, 1939, 1974, 1991, 1961,\n",
       "       1964, 1954, 1995, 1999, 1984, 1943, 1981, 1937, 1972, 1976, 1997,\n",
       "       1989, 1970, 2002, 1969, 1936, 1955, 1945, 1990, 1996, 1992, 1962,\n",
       "       1956, 1940])"
      ]
     },
     "execution_count": 84,
     "metadata": {},
     "output_type": "execute_result"
    }
   ],
   "source": [
    "#Create birth_year column\n",
    "df['birth_year'] = df['birthday'].dt.year\n",
    "\n",
    "df['birth_year'].unique()"
   ]
  },
  {
   "cell_type": "code",
   "execution_count": 85,
   "id": "69605d52",
   "metadata": {},
   "outputs": [
    {
     "name": "stdout",
     "output_type": "stream",
     "text": [
      "1935\n",
      "2002\n"
     ]
    }
   ],
   "source": [
    "print(df['birth_year'].min())\n",
    "print(df['birth_year'].max())"
   ]
  },
  {
   "cell_type": "code",
   "execution_count": 86,
   "id": "bd08f4ae",
   "metadata": {},
   "outputs": [
    {
     "data": {
      "text/plain": [
       "array([2016, 2019, 2017, 2020, 2018, 2021])"
      ]
     },
     "execution_count": 86,
     "metadata": {},
     "output_type": "execute_result"
    }
   ],
   "source": [
    "df['order_date'].dt.year.unique()"
   ]
  },
  {
   "cell_type": "markdown",
   "id": "de7a2c4f",
   "metadata": {},
   "source": [
    "How do we have an order year of 2021?"
   ]
  },
  {
   "cell_type": "code",
   "execution_count": 87,
   "id": "93d22a61",
   "metadata": {},
   "outputs": [
    {
     "name": "stdout",
     "output_type": "stream",
     "text": [
      "       order_number  line_item order_date  customer_key  store_key  \\\n",
      "143         2199014          1 2021-01-07        242542          0   \n",
      "223         2241011          6 2021-02-18        224111         10   \n",
      "224         2241011          2 2021-02-18        224111         10   \n",
      "226         2241012          2 2021-02-18        224111         10   \n",
      "232         2241011          3 2021-02-18        224111         10   \n",
      "...             ...        ...        ...           ...        ...   \n",
      "62423       2233004          2 2021-02-10         45814          1   \n",
      "62424       2233004          3 2021-02-10         45814          1   \n",
      "62795       2211006          2 2021-01-19        801780         34   \n",
      "62796       2211006          1 2021-01-19        801780         34   \n",
      "62881       2233009          1 2021-02-10        416365         26   \n",
      "\n",
      "       product_key  quantity currency_code  \\\n",
      "143            446         3           CAD   \n",
      "223           1637         3           CAD   \n",
      "224           1615         4           CAD   \n",
      "226             58         5           CAD   \n",
      "232           1782         2           CAD   \n",
      "...            ...       ...           ...   \n",
      "62423         1050         1           AUD   \n",
      "62424          140         3           AUD   \n",
      "62795          423         7           EUR   \n",
      "62796          532         6           EUR   \n",
      "62881          684         1           EUR   \n",
      "\n",
      "                                            product_name  \\\n",
      "143                       WWI Desktop PC1.60 E1600 Black   \n",
      "223            Contoso DVD 48 DVD Storage Binder M50 Red   \n",
      "224            SV DVD 15-Inch Player Portable L200 White   \n",
      "226          WWI 1GB Digital Voice Recorder Pen E100 Red   \n",
      "232    MGS Zoo Tycoon 2: End Range Species Expansion ...   \n",
      "...                                                  ...   \n",
      "62423                    A. Datum SLR Camera M136 Silver   \n",
      "62424            Adventure Works 32\" LCD HDTV M130 Brown   \n",
      "62795         Adventure Works Desktop PC2.30 MD230 Black   \n",
      "62796                               WWI LCD20 M220 White   \n",
      "62881  Proseware Ink Jet Instant PDF Sheet-Fed Scanne...   \n",
      "\n",
      "                      brand  ... square_meters  open_date  revenue    costs  \\\n",
      "143    Wide World Importers  ...           NaN   1/1/2010   659.85   336.42   \n",
      "223                 Contoso  ...        1210.0   4/4/2015    53.97    24.81   \n",
      "224        Southridge Video  ...        1210.0   4/4/2015  1159.96   384.32   \n",
      "226    Wide World Importers  ...        1210.0   4/4/2015   780.00   397.65   \n",
      "232           Tailspin Toys  ...        1210.0   4/4/2015    86.00    43.84   \n",
      "...                     ...  ...           ...        ...      ...      ...   \n",
      "62423              A. Datum  ...         595.0   1/1/2008   312.00   143.48   \n",
      "62424       Adventure Works  ...         595.0   1/1/2008  1499.97   689.79   \n",
      "62795       Adventure Works  ...        1365.0   1/1/2010  4193.00  1928.22   \n",
      "62796  Wide World Importers  ...        1365.0   1/1/2010  1554.00   714.66   \n",
      "62881             Proseware  ...         350.0   3/5/2019   160.00    73.58   \n",
      "\n",
      "      profit_margin              city  gender zip_code   birthday  birth_year  \n",
      "143          323.43    Campbell River  Female  V9W 2C9 1998-09-02        1998  \n",
      "223           29.16          Montreal  Female  H3C 5K4 1977-10-14        1977  \n",
      "224          775.64          Montreal  Female  H3C 5K4 1977-10-14        1977  \n",
      "226          382.35          Montreal  Female  H3C 5K4 1977-10-14        1977  \n",
      "232           42.16          Montreal  Female  H3C 5K4 1977-10-14        1977  \n",
      "...             ...               ...     ...      ...        ...         ...  \n",
      "62423        168.52       SPRING HILL    Male     2800 1968-04-05        1968  \n",
      "62424        810.18       SPRING HILL    Male     2800 1968-04-05        1968  \n",
      "62795       2264.78       Hoogerheide  Female  4631 DE 1942-01-21        1942  \n",
      "62796        839.34       Hoogerheide  Female  4631 DE 1942-01-21        1942  \n",
      "62881         86.42  Neckartenzlingen    Male    72654 1991-09-19        1991  \n",
      "\n",
      "[1212 rows x 29 columns]\n"
     ]
    }
   ],
   "source": [
    "# Filter for orders made in the year 2021\n",
    "filtered_df = df.loc[df['order_date'].dt.year == 2021]\n",
    "\n",
    "# Display the filtered DataFrame\n",
    "print(filtered_df)"
   ]
  },
  {
   "cell_type": "code",
   "execution_count": 88,
   "id": "035aa7c2",
   "metadata": {},
   "outputs": [
    {
     "data": {
      "text/plain": [
       "array([2016, 2019, 2017, 2020, 2018, 2021])"
      ]
     },
     "execution_count": 88,
     "metadata": {},
     "output_type": "execute_result"
    }
   ],
   "source": [
    "#Create order_year column and check the years\n",
    "df['order_year'] = df['order_date'].dt.year\n",
    "\n",
    "df['order_year'].unique()"
   ]
  },
  {
   "cell_type": "code",
   "execution_count": 89,
   "id": "1349e27a",
   "metadata": {},
   "outputs": [
    {
     "data": {
      "text/plain": [
       "0"
      ]
     },
     "execution_count": 89,
     "metadata": {},
     "output_type": "execute_result"
    }
   ],
   "source": [
    "#Create order_month column and check the months\n",
    "df['order_month'] = df['order_date'].dt.month\n",
    "\n",
    "df['order_month'].isna().sum()"
   ]
  },
  {
   "cell_type": "code",
   "execution_count": 90,
   "id": "bf277a6a",
   "metadata": {},
   "outputs": [
    {
     "name": "stdout",
     "output_type": "stream",
     "text": [
      "(62884,)\n",
      "(62884,)\n"
     ]
    }
   ],
   "source": [
    "print(df['order_year'].shape)\n",
    "print(df['order_month'].shape)"
   ]
  },
  {
   "cell_type": "code",
   "execution_count": 91,
   "id": "e24cd1d0",
   "metadata": {},
   "outputs": [
    {
     "data": {
      "text/plain": [
       "array([45, 48, 46, 35, 34, 41, 42, 43, 25, 24, 71, 70, 69, 62, 61, 58, 66,\n",
       "       30, 67, 40, 19, 21, 23, 22, 27, 39, 57, 60, 78, 82, 80, 18, 20, 68,\n",
       "       64, 83, 84, 81, 72, 73, 37, 74, 49, 44, 65, 51, 63, 52, 54, 55, 38,\n",
       "       36, 56, 16, 59, 76, 32, 33, 53, 28, 26, 47, 17, 77, 29, 31, 50, 75,\n",
       "       79, 85, 15, 86, 14])"
      ]
     },
     "execution_count": 91,
     "metadata": {},
     "output_type": "execute_result"
    }
   ],
   "source": [
    "#Create age_purcahse column to include just the age in years of the customer at time of purchase\n",
    "df['age_purchase'] = df['order_year'] - df['birth_year']\n",
    "\n",
    "df['age_purchase'].unique()"
   ]
  },
  {
   "cell_type": "code",
   "execution_count": 92,
   "id": "d2a11b20",
   "metadata": {},
   "outputs": [
    {
     "name": "stdout",
     "output_type": "stream",
     "text": [
      "14\n",
      "86\n"
     ]
    }
   ],
   "source": [
    "print(df['age_purchase'].min())\n",
    "print(df['age_purchase'].max())"
   ]
  },
  {
   "cell_type": "markdown",
   "id": "c1d08f7c",
   "metadata": {},
   "source": [
    "The customer age range is wide, we will bin them to make analyzing demographis easier:\n",
    "\n",
    "Bins:\n",
    "- 14-25\n",
    "- 26-35\n",
    "- 36-45\n",
    "- 46-55\n",
    "- 56-65\n",
    "- 66-75\n",
    "- 76-86"
   ]
  },
  {
   "cell_type": "code",
   "execution_count": 93,
   "id": "f19016f5",
   "metadata": {},
   "outputs": [
    {
     "name": "stdout",
     "output_type": "stream",
     "text": [
      "['36-45', '46-55', '26-35', '14-25', '66-75', '56-65', '76-86']\n",
      "Categories (7, object): ['14-25' < '26-35' < '36-45' < '46-55' < '56-65' < '66-75' < '76-86']\n"
     ]
    }
   ],
   "source": [
    "#Create the edges of your age groups\n",
    "bins = [13, 25, 35, 45, 55, 65, 75, 86] \n",
    "\n",
    "#Create the label names\n",
    "labels = ['14-25', '26-35', '36-45', '46-55', '56-65', '66-75', '76-86']\n",
    "\n",
    "#Create the age group column\n",
    "df['age_group'] = pd.cut(df['age_purchase'], bins=bins, labels=labels, right=True)\n",
    "\n",
    "print(df['age_group'].unique())"
   ]
  },
  {
   "cell_type": "code",
   "execution_count": 94,
   "id": "71d3edd7",
   "metadata": {},
   "outputs": [
    {
     "data": {
      "text/plain": [
       "36-45    9437\n",
       "66-75    9428\n",
       "46-55    9373\n",
       "56-65    9326\n",
       "26-35    9271\n",
       "14-25    8562\n",
       "76-86    7487\n",
       "Name: age_group, dtype: int64"
      ]
     },
     "execution_count": 94,
     "metadata": {},
     "output_type": "execute_result"
    }
   ],
   "source": [
    "df['age_group'].value_counts()"
   ]
  },
  {
   "cell_type": "code",
   "execution_count": 95,
   "id": "bd2ae0b1",
   "metadata": {},
   "outputs": [
    {
     "data": {
      "text/plain": [
       "0"
      ]
     },
     "execution_count": 95,
     "metadata": {},
     "output_type": "execute_result"
    }
   ],
   "source": [
    "df['age_group'].isna().sum()"
   ]
  },
  {
   "cell_type": "markdown",
   "id": "73973147",
   "metadata": {},
   "source": [
    "**Note -** We've made them age_group column into bins that contain the actual age group each individual person falls in as an object data type. This is so that we can use value counts easier during our exploratory data anlysis. \n",
    "We will likely encode the age column in the pre-processing stage in order to prepare it for our ML models. "
   ]
  },
  {
   "cell_type": "code",
   "execution_count": 96,
   "id": "61795763",
   "metadata": {},
   "outputs": [
    {
     "name": "stdout",
     "output_type": "stream",
     "text": [
      "object\n"
     ]
    }
   ],
   "source": [
    "print(df['open_date'].dtype)"
   ]
  },
  {
   "cell_type": "code",
   "execution_count": 97,
   "id": "d824c2e7",
   "metadata": {},
   "outputs": [
    {
     "name": "stdout",
     "output_type": "stream",
     "text": [
      "datetime64[ns]\n"
     ]
    }
   ],
   "source": [
    "df['open_date'] = pd.to_datetime(df['open_date'])\n",
    "print(df['open_date'].dtype)"
   ]
  },
  {
   "cell_type": "code",
   "execution_count": 98,
   "id": "6a7af978",
   "metadata": {},
   "outputs": [
    {
     "data": {
      "text/plain": [
       "23"
      ]
     },
     "execution_count": 98,
     "metadata": {},
     "output_type": "execute_result"
    }
   ],
   "source": [
    "df['open_date'].nunique()"
   ]
  },
  {
   "cell_type": "code",
   "execution_count": 99,
   "id": "5275d550",
   "metadata": {},
   "outputs": [
    {
     "data": {
      "text/html": [
       "<div>\n",
       "<style scoped>\n",
       "    .dataframe tbody tr th:only-of-type {\n",
       "        vertical-align: middle;\n",
       "    }\n",
       "\n",
       "    .dataframe tbody tr th {\n",
       "        vertical-align: top;\n",
       "    }\n",
       "\n",
       "    .dataframe thead th {\n",
       "        text-align: right;\n",
       "    }\n",
       "</style>\n",
       "<table border=\"1\" class=\"dataframe\">\n",
       "  <thead>\n",
       "    <tr style=\"text-align: right;\">\n",
       "      <th></th>\n",
       "      <th>order_number</th>\n",
       "      <th>line_item</th>\n",
       "      <th>order_date</th>\n",
       "      <th>customer_key</th>\n",
       "      <th>store_key</th>\n",
       "      <th>product_key</th>\n",
       "      <th>quantity</th>\n",
       "      <th>currency_code</th>\n",
       "      <th>product_name</th>\n",
       "      <th>brand</th>\n",
       "      <th>...</th>\n",
       "      <th>profit_margin</th>\n",
       "      <th>city</th>\n",
       "      <th>gender</th>\n",
       "      <th>zip_code</th>\n",
       "      <th>birthday</th>\n",
       "      <th>birth_year</th>\n",
       "      <th>order_year</th>\n",
       "      <th>order_month</th>\n",
       "      <th>age_purchase</th>\n",
       "      <th>age_group</th>\n",
       "    </tr>\n",
       "  </thead>\n",
       "  <tbody>\n",
       "    <tr>\n",
       "      <th>0</th>\n",
       "      <td>366000</td>\n",
       "      <td>1</td>\n",
       "      <td>2016-01-01</td>\n",
       "      <td>265598</td>\n",
       "      <td>10</td>\n",
       "      <td>1304</td>\n",
       "      <td>1</td>\n",
       "      <td>CAD</td>\n",
       "      <td>Contoso Lens Adapter M450 White</td>\n",
       "      <td>Contoso</td>\n",
       "      <td>...</td>\n",
       "      <td>36.73</td>\n",
       "      <td>London</td>\n",
       "      <td>Male</td>\n",
       "      <td>N5W 5K6</td>\n",
       "      <td>1971-03-23</td>\n",
       "      <td>1971</td>\n",
       "      <td>2016</td>\n",
       "      <td>1</td>\n",
       "      <td>45</td>\n",
       "      <td>36-45</td>\n",
       "    </tr>\n",
       "  </tbody>\n",
       "</table>\n",
       "<p>1 rows × 33 columns</p>\n",
       "</div>"
      ],
      "text/plain": [
       "   order_number  line_item order_date  customer_key  store_key  product_key  \\\n",
       "0        366000          1 2016-01-01        265598         10         1304   \n",
       "\n",
       "   quantity currency_code                     product_name    brand  ...  \\\n",
       "0         1           CAD  Contoso Lens Adapter M450 White  Contoso  ...   \n",
       "\n",
       "  profit_margin    city  gender  zip_code   birthday  birth_year order_year  \\\n",
       "0         36.73  London    Male   N5W 5K6 1971-03-23        1971       2016   \n",
       "\n",
       "  order_month age_purchase  age_group  \n",
       "0           1           45      36-45  \n",
       "\n",
       "[1 rows x 33 columns]"
      ]
     },
     "execution_count": 99,
     "metadata": {},
     "output_type": "execute_result"
    }
   ],
   "source": [
    "df.head(1)"
   ]
  },
  {
   "cell_type": "code",
   "execution_count": 100,
   "id": "43a145fd",
   "metadata": {},
   "outputs": [
    {
     "data": {
      "text/plain": [
       "Index(['order_number', 'line_item', 'order_date', 'customer_key', 'store_key',\n",
       "       'product_key', 'quantity', 'currency_code', 'product_name', 'brand',\n",
       "       'color', 'unit_cost_usd', 'unit_price_usd', 'subcategory_key',\n",
       "       'subcategory', 'category_key', 'category', 'country', 'state',\n",
       "       'square_meters', 'open_date', 'sales', 'costs', 'profit', 'city',\n",
       "       'gender', 'zip_code', 'birthday', 'birth_year', 'order_year',\n",
       "       'order_month', 'age_purchase', 'age_group'],\n",
       "      dtype='object')"
      ]
     },
     "execution_count": 100,
     "metadata": {},
     "output_type": "execute_result"
    }
   ],
   "source": [
    "df.rename(columns={'revenue': 'sales', 'profit_margin': 'profit'}, inplace=True)\n",
    "\n",
    "df.columns"
   ]
  },
  {
   "cell_type": "markdown",
   "id": "82323ead",
   "metadata": {},
   "source": [
    "**Years Open Column**"
   ]
  },
  {
   "cell_type": "code",
   "execution_count": 101,
   "id": "9480a41a",
   "metadata": {},
   "outputs": [
    {
     "data": {
      "text/plain": [
       "Timestamp('2021-02-20 00:00:00')"
      ]
     },
     "execution_count": 101,
     "metadata": {},
     "output_type": "execute_result"
    }
   ],
   "source": [
    "df['order_date'].max()"
   ]
  },
  {
   "cell_type": "code",
   "execution_count": 102,
   "id": "8153766c",
   "metadata": {},
   "outputs": [
    {
     "data": {
      "text/plain": [
       "0    272 days\n",
       "1   3574 days\n",
       "2   3574 days\n",
       "3   3574 days\n",
       "4   4480 days\n",
       "Name: years_open, dtype: timedelta64[ns]"
      ]
     },
     "execution_count": 102,
     "metadata": {},
     "output_type": "execute_result"
    }
   ],
   "source": [
    "df['years_open'] = df['order_date'] - df['open_date']\n",
    "\n",
    "df['years_open'].head()"
   ]
  },
  {
   "cell_type": "code",
   "execution_count": 103,
   "id": "85b75e7e",
   "metadata": {},
   "outputs": [
    {
     "data": {
      "text/plain": [
       "0     0.745205\n",
       "1     9.791781\n",
       "2     9.791781\n",
       "3     9.791781\n",
       "4    12.273973\n",
       "Name: years_open, dtype: float64"
      ]
     },
     "execution_count": 103,
     "metadata": {},
     "output_type": "execute_result"
    }
   ],
   "source": [
    "df['years_open'] = (df['order_date'] - df['open_date']).dt.days / 365\n",
    "df['years_open'].head()"
   ]
  },
  {
   "cell_type": "code",
   "execution_count": 104,
   "id": "41db1279",
   "metadata": {},
   "outputs": [],
   "source": [
    "df.to_csv('~/Desktop/retailer_data.csv', index=False)"
   ]
  }
 ],
 "metadata": {
  "kernelspec": {
   "display_name": "Python 3 (ipykernel)",
   "language": "python",
   "name": "python3"
  },
  "language_info": {
   "codemirror_mode": {
    "name": "ipython",
    "version": 3
   },
   "file_extension": ".py",
   "mimetype": "text/x-python",
   "name": "python",
   "nbconvert_exporter": "python",
   "pygments_lexer": "ipython3",
   "version": "3.9.13"
  }
 },
 "nbformat": 4,
 "nbformat_minor": 5
}
